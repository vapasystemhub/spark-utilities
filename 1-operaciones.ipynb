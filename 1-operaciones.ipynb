{
 "cells": [
  {
   "cell_type": "markdown",
   "metadata": {},
   "source": [
    "# Operaciones sobre `RDD`s"
   ]
  },
  {
   "cell_type": "markdown",
   "metadata": {},
   "source": [
    "Como se mencionó en la presentación, hay dos tipos de operaciones sobre los `RDD`s: _transformaciones_ y _acciones_."
   ]
  },
  {
   "cell_type": "markdown",
   "metadata": {},
   "source": [
    "- Las _transformaciones_ construyen un `RDD` nuevo a partir del anterior.\n",
    "  - Cada transformación queda guardada por =Spark= en el /lineage graph/ un *DAG*.\n",
    "\n",
    "- Las _acciones_ calculan un resultado basado en el `RDD`.\n",
    "\n",
    "- La diferencia es que las `RDD` son computadas en forma _lazy_, sólo son ejecutadas hasta la acción.\n",
    "\n",
    "- Si quieres usarlo una `RDD` varias veces debes de persistirla (con `persist()`)."
   ]
  },
  {
   "cell_type": "markdown",
   "metadata": {},
   "source": [
    "## Flujo típico de trabajo\n",
    "\n",
    "1. Crear un `RDD` a partir de datos externos.\n",
    "2. Transformarlo a nuevos `RDDs`.\n",
    "3. Persistir algunos `RDDs` para su uso posterior.\n",
    "4. Lanzar acciones."
   ]
  },
  {
   "cell_type": "markdown",
   "metadata": {},
   "source": [
    "Obtenemos el `SparkContext` para poder trabajar"
   ]
  },
  {
   "cell_type": "code",
   "execution_count": 1,
   "metadata": {
    "collapsed": true
   },
   "outputs": [],
   "source": [
    "import pyspark\n",
    "sc = pyspark.SparkContext('local[*]')"
   ]
  },
  {
   "cell_type": "markdown",
   "metadata": {},
   "source": [
    "## Transformaciones"
   ]
  },
  {
   "cell_type": "markdown",
   "metadata": {},
   "source": [
    "Las principales transformaciones (o por lo menos las más usadas) se listan a continuación"
   ]
  },
  {
   "cell_type": "markdown",
   "metadata": {},
   "source": [
    "  - `map`\n",
    "    - Usa una función y la aplica a cada elemento del `RDD`, el resultado se guarda en un nuevo `RDD`.\n",
    "  - `filter`\n",
    "    - Usa una función y devuelve sólo los elementos que pasan la función (que devuelven verdadero) en el nuevo `RDD`.\n",
    "  - `flatMap`\n",
    "    - Como el `map` pero regresa un iterador por cada elemento\n",
    "      - Por ejemplo una función que divide una cadena.\n",
    "  - `distinct`\n",
    "  - `sample`\n",
    "  - `join`\n",
    "  - `cogroup`\n",
    "  - `coalesce`\n",
    "  - `union`, `intersection`, `substract`, `cartesian`\n"
   ]
  },
  {
   "cell_type": "markdown",
   "metadata": {},
   "source": [
    "**NOTA** En los ejemplos que siguen usaremos `collect()`,  `count()`, `take()`. Estas funciones **no** son _transformaciones_, sino _acciones_ que se explican más abajo."
   ]
  },
  {
   "cell_type": "markdown",
   "metadata": {},
   "source": [
    "Creamos un `RDD` a partir de enteros (justo como antes)"
   ]
  },
  {
   "cell_type": "code",
   "execution_count": 2,
   "metadata": {
    "collapsed": false
   },
   "outputs": [],
   "source": [
    "numeros = sc.parallelize(range(1000))"
   ]
  },
  {
   "cell_type": "markdown",
   "metadata": {},
   "source": [
    "Usaremos una _función anónima_ para elevar los números al cuadrado"
   ]
  },
  {
   "cell_type": "code",
   "execution_count": 3,
   "metadata": {
    "collapsed": true
   },
   "outputs": [],
   "source": [
    "cuadrados = numeros.map(lambda x: x*x)"
   ]
  },
  {
   "cell_type": "code",
   "execution_count": 4,
   "metadata": {
    "collapsed": false
   },
   "outputs": [
    {
     "data": {
      "text/plain": [
       "[0, 1, 4, 9, 16]"
      ]
     },
     "execution_count": 4,
     "metadata": {},
     "output_type": "execute_result"
    }
   ],
   "source": [
    "cuadrados.take(5)"
   ]
  },
  {
   "cell_type": "code",
   "execution_count": 5,
   "metadata": {
    "collapsed": false
   },
   "outputs": [],
   "source": [
    "muestra = cuadrados.sample(fraction=0.3, withReplacement=False)"
   ]
  },
  {
   "cell_type": "code",
   "execution_count": 6,
   "metadata": {
    "collapsed": false
   },
   "outputs": [
    {
     "data": {
      "text/plain": [
       "287"
      ]
     },
     "execution_count": 6,
     "metadata": {},
     "output_type": "execute_result"
    }
   ],
   "source": [
    "muestra.count()"
   ]
  },
  {
   "cell_type": "code",
   "execution_count": 7,
   "metadata": {
    "collapsed": false
   },
   "outputs": [
    {
     "data": {
      "text/plain": [
       "[1, 9, 36, 100, 144]"
      ]
     },
     "execution_count": 7,
     "metadata": {},
     "output_type": "execute_result"
    }
   ],
   "source": [
    "muestra.take(5)"
   ]
  },
  {
   "cell_type": "code",
   "execution_count": 8,
   "metadata": {
    "collapsed": true
   },
   "outputs": [],
   "source": [
    "pares = muestra.filter(lambda x: x%2 == 0)"
   ]
  },
  {
   "cell_type": "code",
   "execution_count": 9,
   "metadata": {
    "collapsed": false
   },
   "outputs": [
    {
     "data": {
      "text/plain": [
       "[36, 100, 144, 484, 576]"
      ]
     },
     "execution_count": 9,
     "metadata": {},
     "output_type": "execute_result"
    }
   ],
   "source": [
    "pares.take(5)"
   ]
  },
  {
   "cell_type": "code",
   "execution_count": 10,
   "metadata": {
    "collapsed": false
   },
   "outputs": [
    {
     "data": {
      "text/plain": [
       "149"
      ]
     },
     "execution_count": 10,
     "metadata": {},
     "output_type": "execute_result"
    }
   ],
   "source": [
    "pares.count()"
   ]
  },
  {
   "cell_type": "markdown",
   "metadata": {},
   "source": [
    "El `DAG` está formado por `numeros -> cuadrados -> muestra -> pares` "
   ]
  },
  {
   "cell_type": "markdown",
   "metadata": {},
   "source": [
    "Estar verificando en cada paso, no es muy eficiente, de hecho, una manera de programar muy utilizada es la siguiente:"
   ]
  },
  {
   "cell_type": "code",
   "execution_count": 11,
   "metadata": {
    "collapsed": true
   },
   "outputs": [],
   "source": [
    "pares2 = numeros.map(lambda x: x*x)\\\n",
    "                .sample(fraction=0.3, withReplacement=False)\\\n",
    "                .filter(lambda x: x%2 == 0)"
   ]
  },
  {
   "cell_type": "code",
   "execution_count": 12,
   "metadata": {
    "collapsed": false
   },
   "outputs": [
    {
     "data": {
      "text/plain": [
       "[0, 16, 144, 256, 400]"
      ]
     },
     "execution_count": 12,
     "metadata": {},
     "output_type": "execute_result"
    }
   ],
   "source": [
    "pares2.take(5)"
   ]
  },
  {
   "cell_type": "code",
   "execution_count": 13,
   "metadata": {
    "collapsed": false
   },
   "outputs": [
    {
     "data": {
      "text/plain": [
       "148"
      ]
     },
     "execution_count": 13,
     "metadata": {},
     "output_type": "execute_result"
    }
   ],
   "source": [
    "pares2.count()"
   ]
  },
  {
   "cell_type": "markdown",
   "metadata": {},
   "source": [
    "El `DAG` tiene la misma estructura (con `numeros` como raíz), pero sus nodos son anónimos."
   ]
  },
  {
   "cell_type": "markdown",
   "metadata": {},
   "source": [
    "Una transformación que causa confusión es `flatMap`, veamos un ejemplo"
   ]
  },
  {
   "cell_type": "markdown",
   "metadata": {},
   "source": [
    "La función `.split()` de `python`, toma una cadena y devuelve una lista"
   ]
  },
  {
   "cell_type": "code",
   "execution_count": 14,
   "metadata": {
    "collapsed": false
   },
   "outputs": [
    {
     "data": {
      "text/plain": [
       "['Hola', 'a', 'todos']"
      ]
     },
     "execution_count": 14,
     "metadata": {},
     "output_type": "execute_result"
    }
   ],
   "source": [
    "\"Hola a todos\".split(\" \")"
   ]
  },
  {
   "cell_type": "markdown",
   "metadata": {},
   "source": [
    "¿Qué efectos tendría en un `map`?"
   ]
  },
  {
   "cell_type": "code",
   "execution_count": 15,
   "metadata": {
    "collapsed": true
   },
   "outputs": [],
   "source": [
    "frases = sc.parallelize([\"hola a todos\", \"taller nacional de big data\", \"Análisis de redes sociales\"])"
   ]
  },
  {
   "cell_type": "code",
   "execution_count": 16,
   "metadata": {
    "collapsed": false
   },
   "outputs": [
    {
     "data": {
      "text/plain": [
       "[['hola', 'a', 'todos'],\n",
       " ['taller', 'nacional', 'de', 'big', 'data'],\n",
       " ['Análisis', 'de', 'redes', 'sociales']]"
      ]
     },
     "execution_count": 16,
     "metadata": {},
     "output_type": "execute_result"
    }
   ],
   "source": [
    "palabras = frases.map(lambda frase: frase.split(\" \")).collect()\n",
    "palabras"
   ]
  },
  {
   "cell_type": "code",
   "execution_count": 17,
   "metadata": {
    "collapsed": false
   },
   "outputs": [
    {
     "data": {
      "text/plain": [
       "['taller', 'nacional', 'de', 'big', 'data']"
      ]
     },
     "execution_count": 17,
     "metadata": {},
     "output_type": "execute_result"
    }
   ],
   "source": [
    "palabras[1]"
   ]
  },
  {
   "cell_type": "markdown",
   "metadata": {},
   "source": [
    "Obtenemos un arreglo de arreglos y quizá esto no sea lo que necesitamos. Usando `flatMap` \"aplanamos\" el `RDD` resultante."
   ]
  },
  {
   "cell_type": "code",
   "execution_count": 18,
   "metadata": {
    "collapsed": false
   },
   "outputs": [
    {
     "data": {
      "text/plain": [
       "['hola',\n",
       " 'a',\n",
       " 'todos',\n",
       " 'taller',\n",
       " 'nacional',\n",
       " 'de',\n",
       " 'big',\n",
       " 'data',\n",
       " 'Análisis',\n",
       " 'de',\n",
       " 'redes',\n",
       " 'sociales']"
      ]
     },
     "execution_count": 18,
     "metadata": {},
     "output_type": "execute_result"
    }
   ],
   "source": [
    "palabras = frases.flatMap(lambda frase: frase.split(\" \")).collect()\n",
    "palabras"
   ]
  },
  {
   "cell_type": "markdown",
   "metadata": {},
   "source": [
    "## Acciones"
   ]
  },
  {
   "cell_type": "markdown",
   "metadata": {},
   "source": [
    "- `first`\n",
    "- `take`, `takeSample`\n",
    "- `reduce`\n",
    "  - Opera en dos elementos del mismo tipo del `RDD` y regresa un elemento del mismo tipo.\n",
    "- `aggregate`\n",
    "  - Nos permite implementar acumuladores.\n",
    "- `collect`\n",
    "  - Regresa el `RDD` completo.\n",
    "- `count`, `countByValue`, `top`, `foreach`, `countByKey`\n",
    "- `saveAsTextFile`\n"
   ]
  },
  {
   "cell_type": "markdown",
   "metadata": {},
   "source": [
    "Es importante notar que todos estas operaciones acaban con datos en el _driver_."
   ]
  },
  {
   "cell_type": "code",
   "execution_count": 19,
   "metadata": {
    "collapsed": false
   },
   "outputs": [
    {
     "data": {
      "text/plain": [
       "0"
      ]
     },
     "execution_count": 19,
     "metadata": {},
     "output_type": "execute_result"
    }
   ],
   "source": [
    "numeros.first()"
   ]
  },
  {
   "cell_type": "code",
   "execution_count": 20,
   "metadata": {
    "collapsed": false
   },
   "outputs": [
    {
     "data": {
      "text/plain": [
       "[0, 1, 2, 3, 4]"
      ]
     },
     "execution_count": 20,
     "metadata": {},
     "output_type": "execute_result"
    }
   ],
   "source": [
    "numeros.take(5)"
   ]
  },
  {
   "cell_type": "code",
   "execution_count": 21,
   "metadata": {
    "collapsed": false
   },
   "outputs": [
    {
     "data": {
      "text/plain": [
       "[563,\n",
       " 121,\n",
       " 914,\n",
       " 842,\n",
       " 57,\n",
       " 509,\n",
       " 714,\n",
       " 94,\n",
       " 197,\n",
       " 667,\n",
       " 788,\n",
       " 395,\n",
       " 862,\n",
       " 588,\n",
       " 585,\n",
       " 778,\n",
       " 242,\n",
       " 894,\n",
       " 517,\n",
       " 513,\n",
       " 225,\n",
       " 359,\n",
       " 510,\n",
       " 615,\n",
       " 409,\n",
       " 717,\n",
       " 515,\n",
       " 171,\n",
       " 82,\n",
       " 108]"
      ]
     },
     "execution_count": 21,
     "metadata": {},
     "output_type": "execute_result"
    }
   ],
   "source": [
    "numeros.takeSample(num=30, withReplacement=False)"
   ]
  },
  {
   "cell_type": "code",
   "execution_count": 22,
   "metadata": {
    "collapsed": false
   },
   "outputs": [
    {
     "data": {
      "text/plain": [
       "499500"
      ]
     },
     "execution_count": 22,
     "metadata": {},
     "output_type": "execute_result"
    }
   ],
   "source": [
    "suma = numeros.reduce(lambda x, y: x + y)\n",
    "suma"
   ]
  },
  {
   "cell_type": "code",
   "execution_count": 23,
   "metadata": {
    "collapsed": false
   },
   "outputs": [
    {
     "data": {
      "text/plain": [
       "[996004,\n",
       " 988036,\n",
       " 968256,\n",
       " 964324,\n",
       " 960400,\n",
       " 952576,\n",
       " 929296,\n",
       " 898704,\n",
       " 894916,\n",
       " 876096]"
      ]
     },
     "execution_count": 23,
     "metadata": {},
     "output_type": "execute_result"
    }
   ],
   "source": [
    "pares.top(10)"
   ]
  },
  {
   "cell_type": "markdown",
   "metadata": {},
   "source": [
    "Para los ejemplos que siguen generaremos un conjunto falso de transacciones, usando las bibliotecas de `python` `random` y `uuid`"
   ]
  },
  {
   "cell_type": "code",
   "execution_count": 24,
   "metadata": {
    "collapsed": true
   },
   "outputs": [],
   "source": [
    "import random"
   ]
  },
  {
   "cell_type": "code",
   "execution_count": 25,
   "metadata": {
    "collapsed": false
   },
   "outputs": [
    {
     "data": {
      "text/plain": [
       "24"
      ]
     },
     "execution_count": 25,
     "metadata": {},
     "output_type": "execute_result"
    }
   ],
   "source": [
    "random.randint(10,1000)"
   ]
  },
  {
   "cell_type": "code",
   "execution_count": 26,
   "metadata": {
    "collapsed": false
   },
   "outputs": [
    {
     "data": {
      "text/plain": [
       "'CONSULTA'"
      ]
     },
     "execution_count": 26,
     "metadata": {},
     "output_type": "execute_result"
    }
   ],
   "source": [
    "accion = ['RETIRO', 'COMPRA', 'CONSULTA']\n",
    "random.choice(accion)"
   ]
  },
  {
   "cell_type": "code",
   "execution_count": 27,
   "metadata": {
    "collapsed": false
   },
   "outputs": [],
   "source": [
    "import uuid"
   ]
  },
  {
   "cell_type": "code",
   "execution_count": 28,
   "metadata": {
    "collapsed": false
   },
   "outputs": [],
   "source": [
    "clientes = [str(uuid.uuid4()), str(uuid.uuid4()), str(uuid.uuid4()), str(uuid.uuid4()), str(uuid.uuid4())]"
   ]
  },
  {
   "cell_type": "code",
   "execution_count": 29,
   "metadata": {
    "collapsed": false
   },
   "outputs": [
    {
     "data": {
      "text/plain": [
       "['1ecf3bf6-91ce-4612-b80f-10c9770b88a2',\n",
       " '92c807e4-5dba-4cf3-b5c6-6966863966cc',\n",
       " '08ab52c3-cf99-45ab-8cc9-5f8822da20ab',\n",
       " '8da344a6-490d-46a9-8ac0-96482348df66',\n",
       " 'e64e49a1-8b94-4ef6-8f81-bebe2e703995']"
      ]
     },
     "execution_count": 29,
     "metadata": {},
     "output_type": "execute_result"
    }
   ],
   "source": [
    "clientes"
   ]
  },
  {
   "cell_type": "code",
   "execution_count": 30,
   "metadata": {
    "collapsed": true
   },
   "outputs": [],
   "source": [
    "def generate_transaction():\n",
    "    \"\"\"\n",
    "    Regresa una transacción falsa, la primera columna es el número de tarjeta ofuscado, las demás\n",
    "    columnas son el comercio, la acción realizada en el comercio y el monto de la acción.\n",
    "    Devuelve una cadena separada por pipes (|)\n",
    "    \"\"\"\n",
    "    comercio = ['ARENA COLISEO', 'SUPERCITO', 'RESTAURANTE EL TRABAJO']\n",
    "    accion = ['RETIRO', 'COMPRA']\n",
    "    \n",
    "    return \"%s|%s|%s|%s\" % (random.choice(clientes), random.choice(comercio), random.choice(accion), random.randint(10, 10000))"
   ]
  },
  {
   "cell_type": "code",
   "execution_count": 31,
   "metadata": {
    "collapsed": true
   },
   "outputs": [],
   "source": [
    "?generate_transaction"
   ]
  },
  {
   "cell_type": "code",
   "execution_count": 32,
   "metadata": {
    "collapsed": false
   },
   "outputs": [
    {
     "data": {
      "text/plain": [
       "'08ab52c3-cf99-45ab-8cc9-5f8822da20ab|RESTAURANTE EL TRABAJO|COMPRA|301'"
      ]
     },
     "execution_count": 32,
     "metadata": {},
     "output_type": "execute_result"
    }
   ],
   "source": [
    "generate_transaction()"
   ]
  },
  {
   "cell_type": "code",
   "execution_count": 33,
   "metadata": {
    "collapsed": true
   },
   "outputs": [],
   "source": [
    "def generate_transactions(number=10000):\n",
    "    \"\"\"\n",
    "    Regresa una lista de transacciones falsa.\n",
    "    \"\"\"\n",
    "    txs = []\n",
    "    for i in range(number):\n",
    "        txs.append(generate_transaction())\n",
    "    return txs"
   ]
  },
  {
   "cell_type": "code",
   "execution_count": 34,
   "metadata": {
    "collapsed": false
   },
   "outputs": [
    {
     "data": {
      "text/plain": [
       "['1ecf3bf6-91ce-4612-b80f-10c9770b88a2|ARENA COLISEO|COMPRA|8521',\n",
       " '08ab52c3-cf99-45ab-8cc9-5f8822da20ab|SUPERCITO|COMPRA|5787',\n",
       " '8da344a6-490d-46a9-8ac0-96482348df66|RESTAURANTE EL TRABAJO|COMPRA|6565',\n",
       " 'e64e49a1-8b94-4ef6-8f81-bebe2e703995|SUPERCITO|RETIRO|9263',\n",
       " '1ecf3bf6-91ce-4612-b80f-10c9770b88a2|RESTAURANTE EL TRABAJO|COMPRA|1823',\n",
       " '1ecf3bf6-91ce-4612-b80f-10c9770b88a2|RESTAURANTE EL TRABAJO|RETIRO|441',\n",
       " '92c807e4-5dba-4cf3-b5c6-6966863966cc|SUPERCITO|COMPRA|1735',\n",
       " 'e64e49a1-8b94-4ef6-8f81-bebe2e703995|SUPERCITO|COMPRA|4752',\n",
       " '1ecf3bf6-91ce-4612-b80f-10c9770b88a2|RESTAURANTE EL TRABAJO|RETIRO|4773',\n",
       " '08ab52c3-cf99-45ab-8cc9-5f8822da20ab|SUPERCITO|COMPRA|3540']"
      ]
     },
     "execution_count": 34,
     "metadata": {},
     "output_type": "execute_result"
    }
   ],
   "source": [
    "generate_transactions(number=10)"
   ]
  },
  {
   "cell_type": "code",
   "execution_count": 35,
   "metadata": {
    "collapsed": true
   },
   "outputs": [],
   "source": [
    "txs = sc.parallelize(generate_transactions(number=10000))"
   ]
  },
  {
   "cell_type": "code",
   "execution_count": 36,
   "metadata": {
    "collapsed": false
   },
   "outputs": [
    {
     "data": {
      "text/plain": [
       "'8da344a6-490d-46a9-8ac0-96482348df66|ARENA COLISEO|RETIRO|1621'"
      ]
     },
     "execution_count": 36,
     "metadata": {},
     "output_type": "execute_result"
    }
   ],
   "source": [
    "txs.first()"
   ]
  },
  {
   "cell_type": "code",
   "execution_count": 37,
   "metadata": {
    "collapsed": false
   },
   "outputs": [
    {
     "data": {
      "text/plain": [
       "10000"
      ]
     },
     "execution_count": 37,
     "metadata": {},
     "output_type": "execute_result"
    }
   ],
   "source": [
    "txs.count()"
   ]
  },
  {
   "cell_type": "markdown",
   "metadata": {},
   "source": [
    "Guardamos estas transacciones para usarlas posteriormente"
   ]
  },
  {
   "cell_type": "code",
   "execution_count": null,
   "metadata": {
    "collapsed": false
   },
   "outputs": [],
   "source": [
    "! ls -lh output/raw/transacciones"
   ]
  },
  {
   "cell_type": "code",
   "execution_count": null,
   "metadata": {
    "collapsed": false
   },
   "outputs": [
    {
     "name": "stdout",
     "output_type": "stream",
     "text": [
      "rm: remove write-protected directory ‘output/raw/transacciones’? "
     ]
    }
   ],
   "source": [
    "! rm -R output/raw/transacciones"
   ]
  },
  {
   "cell_type": "code",
   "execution_count": null,
   "metadata": {
    "collapsed": true
   },
   "outputs": [],
   "source": [
    "txs.saveAsTextFile(\"output/raw/transacciones\")"
   ]
  },
  {
   "cell_type": "markdown",
   "metadata": {},
   "source": [
    "Como está distribuido, los archivos en realidad se guardan como carpeta."
   ]
  },
  {
   "cell_type": "code",
   "execution_count": null,
   "metadata": {
    "collapsed": false
   },
   "outputs": [],
   "source": [
    "! ls -lh output/raw/transacciones"
   ]
  },
  {
   "cell_type": "markdown",
   "metadata": {},
   "source": [
    "Supongamos que queremos realizar un conteo por tarjeta, los pasos serían los siguientes:"
   ]
  },
  {
   "cell_type": "markdown",
   "metadata": {},
   "source": [
    "Designamos el número de tarjeta como la **llave** (_key_)"
   ]
  },
  {
   "cell_type": "code",
   "execution_count": null,
   "metadata": {
    "collapsed": false
   },
   "outputs": [],
   "source": [
    "kv_txs = txs.map(lambda x: x.split(\"|\"))\\\n",
    "            .map(lambda x: (x[0], x[1:])) # x[0] contiene el número de tarjeta ofuscado\n",
    "kv_txs.take(5)"
   ]
  },
  {
   "cell_type": "code",
   "execution_count": null,
   "metadata": {
    "collapsed": false
   },
   "outputs": [],
   "source": [
    "kv_txs.keys().first()"
   ]
  },
  {
   "cell_type": "code",
   "execution_count": null,
   "metadata": {
    "collapsed": false
   },
   "outputs": [],
   "source": [
    "kv_txs.values().first()"
   ]
  },
  {
   "cell_type": "code",
   "execution_count": null,
   "metadata": {
    "collapsed": false
   },
   "outputs": [],
   "source": [
    "kv_txs.count()"
   ]
  },
  {
   "cell_type": "code",
   "execution_count": null,
   "metadata": {
    "collapsed": false
   },
   "outputs": [],
   "source": [
    "kv_txs.countByKey()"
   ]
  }
 ],
 "metadata": {
  "kernelspec": {
   "display_name": "Python 2",
   "language": "python",
   "name": "python2"
  },
  "language_info": {
   "codemirror_mode": {
    "name": "ipython",
    "version": 2
   },
   "file_extension": ".py",
   "mimetype": "text/x-python",
   "name": "python",
   "nbconvert_exporter": "python",
   "pygments_lexer": "ipython2",
   "version": "2.7.12"
  }
 },
 "nbformat": 4,
 "nbformat_minor": 0
}
