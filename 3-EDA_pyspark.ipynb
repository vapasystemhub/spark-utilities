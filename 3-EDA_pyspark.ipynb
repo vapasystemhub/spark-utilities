{
 "cells": [
  {
   "cell_type": "markdown",
   "metadata": {},
   "source": [
    "# Descripción de la base de datos"
   ]
  },
  {
   "cell_type": "markdown",
   "metadata": {},
   "source": [
    "Tomado de [aquí](http://lisp.vse.cz/pkdd99/Challenge/berka.htm)."
   ]
  },
  {
   "cell_type": "markdown",
   "metadata": {},
   "source": [
    "## Relaciones "
   ]
  },
  {
   "cell_type": "markdown",
   "metadata": {},
   "source": [
    "<img src=\"imagenes/data.gif\"/>"
   ]
  },
  {
   "cell_type": "markdown",
   "metadata": {},
   "source": [
    "## Descripción de las tablas"
   ]
  },
  {
   "cell_type": "markdown",
   "metadata": {},
   "source": [
    "The data about the clients and their accounts consist of following relations:\n",
    "\n",
    "* relation account (4500 objects in the file ACCOUNT.ASC) - each record describes static characteristics of an account,\n",
    "* relation client (5369 objects in the file CLIENT.ASC) - each record describes characteristics of a client,\n",
    "* relation disposition (5369 objects in the file DISP.ASC) - each record relates together a client with an account i.e. this relation describes the rights of clients to operate accounts,\n",
    "* relation permanent order (6471 objects in the file ORDER.ASC) - each record describes characteristics of a payment order,\n",
    "* relation transaction (1056320 objects in the file TRANS.ASC) - each record describes one transaction on an account,\n",
    "* relation loan (682 objects in the file LOAN.ASC) - each record describes a loan granted for a given account,\n",
    "* relation credit card (892 objects in the file CARD.ASC) - each record describes a credit card issued to an account,\n",
    "* relation demographic data (77 objects in the file DISTRICT.ASC) - each record describes demographic characteristics of a district."
   ]
  },
  {
   "cell_type": "markdown",
   "metadata": {},
   "source": [
    "Each account has both static characteristics (e.g. date of creation, address of the branch) given in relation \"account\" and dynamic characteristics (e.g. payments debited or credited, balances) given in relations \"permanent order\" and \"transaction\". Relation \"client\" describes characteristics of persons who can manipulate with the accounts. One client can have more accounts, more clients can manipulate with single account; clients and accounts are related together in relation \"disposition\". Relations \"loan\" and \"credit card\" describe some services which the bank offers to its clients; more credit cards can be issued to an account, at most one loan can be granted for an account. Relation \"demographic data\" gives some publicly available information about the districts (e.g. the unemployment rate); additional information about the clients can be deduced from this."
   ]
  },
  {
   "cell_type": "markdown",
   "metadata": {},
   "source": [
    "## Descripción de los campos"
   ]
  },
  {
   "cell_type": "markdown",
   "metadata": {},
   "source": [
    "<H3>Relation account</H3>\n",
    "<TABLE CELLSPACING=0 BORDER CELLPADDING=4 WIDTH=85%>\n",
    "<TR><TH>item</TH><TH>meaning</TH><TH>remark</TH></TR>\n",
    "<TR><TD>account_id</TD><TD>identification of the account</TD><TD> </TD></TR>\n",
    "<TR><TD>district_id</TD><TD>location of the branch</TD><TD> </TD></TR>\n",
    "<TR><TD>date</TD><TD>date of creating of the account</TD><TD>in the form\n",
    "YYMMDD</TD></TR>\n",
    "<TR><TD>frequency</TD><TD>frequency of issuance of statements</TD>\n",
    "<TD>\"POPLATEK MESICNE\" stands for monthly issuance</P>\n",
    "\"POPLATEK TYDNE\" stands for weekly issuance</P>\n",
    "\"POPLATEK PO OBRATU\" stands for issuance after transaction</TD>\n",
    "</TR>\n",
    "</TABLE>\n",
    "&nbsp;\n",
    "&nbsp;\n",
    "&nbsp;\n",
    " \n",
    "<H3>Relation client</H3>\n",
    "<TABLE CELLSPACING=0 BORDER CELLPADDING=4 WIDTH=85%>\n",
    "<TR><TH>item</TH><TH>meaning</TH><TH>remark</TH></TR>\n",
    "<TR><TD>client_id</TD><TD>client identifier</TD><TD></TD></TR>\n",
    "<!-- <FONT SIZE=2> -->\n",
    "<P>\n",
    "<TR><TD>birth number</TD><TD>birthday and sex</TD>\n",
    "<TD>the number is in the form YYMMDD for men,<BR>\n",
    "the  number is in the form YYMM+50DD for women,<BR>\n",
    "<P>where YYMMDD is the date of birth</TD>\n",
    "</TR>\n",
    "<TR><TD>district_id</TD><TD>address of the client</TD><TD></TD></TR>\n",
    "</TABLE>\n",
    "&nbsp;\n",
    "&nbsp;\n",
    "&nbsp;\n",
    " \n",
    "<H3>Relation disposition</H3>\n",
    "<TABLE CELLSPACING=0 BORDER CELLPADDING=4 WIDTH=85%>\n",
    "<TR><TH>item</TH><TH>meaning</TH><TH>remark</TH></TR>\n",
    "<TR><TD>disp_id</TD><TD>record identifier</TD><TD></TD></TR>\n",
    "<TR><TD>client_id</TD><TD>identification of a client</TD><TD></TD></TR>\n",
    "<TR><TD>account_id</TD><TD>identification of an account</TD><TD></TD></TR>\n",
    "<TR><TD>type</TD><TD>type of disposition (owner/user)</TD>\n",
    "<TD>only owner can issue permanent orders and ask for a loan</TD></TR>\n",
    "</TABLE>\n",
    "&nbsp;\n",
    "&nbsp;\n",
    "&nbsp;\n",
    "\n",
    "<H3>Relation permanent order (debits only)</H3>\n",
    "<TABLE CELLSPACING=0 BORDER CELLPADDING=4 WIDTH=85%>\n",
    "<TR><TH>item</TH><TH>meaning</TH><TH>remark</TH></TR>\n",
    "<TR><TD>order_id</TD><TD>record identifier</TD><TD></TD></TR>\n",
    "<TR><TD>account_id</TD><TD>account, the order is issued\n",
    "for</TD><TD></TD></TR>\n",
    "<TR><TD>bank_to</TD><TD>bank of the recipient</TD>\n",
    "<TD>each bank has unique two-letter code</TD></TR>\n",
    "<TR><TD>account_to</TD><TD>account of the recipient</TD><TD></TD></TR>\n",
    "<TR><TD>amount</TD><TD>debited amount</TD><TD></TD></TR>\n",
    "<TR><TD>K_symbol</TD><TD>characterization of the payment</TD>\n",
    "<TD>\n",
    "\"POJISTNE\" stands for insurrance payment</P>\n",
    "\"SIPO\" stands for household payment</P>\n",
    "\"LEASING\" stands for leasing</P>\n",
    "\"UVER\" stands for loan payment</p>\n",
    "</TD>\n",
    "</TR>\n",
    "</TABLE>\n",
    "&nbsp;\n",
    "&nbsp;\n",
    "&nbsp;\n",
    " \n",
    "<H3>Relation Transaction</H3>\n",
    "<TABLE CELLSPACING=0 BORDER CELLPADDING=4 WIDTH=85%>\n",
    "<TR><TH>item</TH><TH>meaning</TH><TH>remark</TH></TR>\n",
    "<TR><TD>trans_id</TD><TD>record identifier</TD><TD></TD></TR>\n",
    "<TR><TD>account_id</TD><TD>account, the transation deals\n",
    "with</TD><TD></TD></TR>\n",
    "<TR><TD>date</TD><TD>date of transaction</TD><TD>in the form\n",
    "YYMMDD</TD></TR>\n",
    "<TR><TD>type</TD><TD>+/- transaction</TD>\n",
    "<TD>\"PRIJEM\" stands for credit</P>\"VYDAJ\" stands for withdrawal</TD></TR>\n",
    "<TR><TD>operation</TD><TD>mode of  transaction</TD>\n",
    "<!-- <FONT SIZE=2> -->\n",
    "<P>\n",
    "<TD>\n",
    "\"VYBER KARTOU\" credit card withdrawal</P>\n",
    "\"VKLAD\" credit in cash</P>\n",
    "\"PREVOD Z UCTU\" collection from another bank</P>\n",
    "\"VYBER\" withdrawal in cash</P>\n",
    "\"PREVOD NA UCET\" remittance to another bank</TD>\n",
    "</TR>\n",
    "<TR><TD>amount</TD><TD>amount of money</TD><TD></TD></TR>\n",
    "<TR><TD>balance</TD><TD>balance after transaction</TD></TR>\n",
    "<TR><TD>k_symbol</TD><TD>characterization of the transaction</TD>\n",
    "<TD>\n",
    "\"POJISTNE\" stands for insurrance payment</P>\n",
    "\"SLUZBY\" stands for payment for statement</P>\n",
    "\"UROK\" stands for interest credited</P>\n",
    "\"SANKC. UROK\" sanction interest if negative balance</P>\n",
    "\"SIPO\" stands for household</P>\n",
    "<!-- 'SOC. DAVKA' stands for unemployment compensation or old-age\n",
    "pension</P> -->\n",
    "\"DUCHOD\" stands for old-age pension</P>\n",
    "<!-- 'LEASING' stands for leasing</P> -->\n",
    "\"UVER\" stands for loan payment</p>\n",
    "</TD>\n",
    "</TR>\n",
    "<TR><TD>bank</TD><TD>bank of the partner</TD>\n",
    "<TD>each bank has unique two-letter code</TD></TR>\n",
    "<TR><TD>account</TD><TD>account of the partner</TD><TD></TD></TR>\n",
    "</TABLE>\n",
    "&nbsp;\n",
    "&nbsp;\n",
    "&nbsp;\n",
    " \n",
    "<H3>Relation Loan</H3>\n",
    "<TABLE CELLSPACING=0 BORDER CELLPADDING=4 WIDTH=85%>\n",
    "<TR><TH>item</TH><TH>meaning</TH><TH>remark</TH></TR>\n",
    "<TR><TD>loan_id</TD><TD>record identifier</TD><TD></TD></TR>\n",
    "<TR><TD>account_id</TD><TD>identification of the account</TD><TD></TD></TR>\n",
    "<TR><TD>date</TD><TD>date when the loan was granted</TD><TD> in the form\n",
    "YYMMDD </TD></TR>\n",
    "<!-- <TR><TD>purpose</TD><TD>purpose of the loan</TD><TD></TD></TR> -->\n",
    "<TR><TD>amount</TD><TD>amount of money</TD><TD></TD></TR>\n",
    "<TR><TD>duration</TD><TD>duration of the loan</TD><TD></TD></TR>\n",
    "<TR><TD>payments</TD><TD>monthly payments</TD><TD></TD></TR>\n",
    "<TR><TD>status</TD><TD>status of paying off the loan</TD>\n",
    "<TD>'A' stands for contract finished, no problems,</p>\n",
    "'B' stands for contract finished, loan not payed,</p>\n",
    "'C' stands for running contract, OK so far,</p>\n",
    "'D' stands for running contract, client in debt</TD>\n",
    "<!-- <TD> possible values are \"A\", \"B\", \"C\", \"D\"</TD> -->\n",
    "</TR>\n",
    "</TABLE>\n",
    "&nbsp;\n",
    "&nbsp;\n",
    "&nbsp;\n",
    "\n",
    "<H3>Relation Credit card</H3>\n",
    "<TABLE CELLSPACING=0 BORDER CELLPADDING=4 WIDTH=85%>\n",
    "<TR><TH>item</TH><TH>meaning</TH><TH>remark</TH></TR>\n",
    "<TR><TD>card_id</TD><TD>record identifier</TD><TD></TD></TR>\n",
    "<TR><TD>disp_id</TD><TD>disposition to an account</TD><TD></TD></TR>\n",
    "<TR><TD>type</TD><TD>type of card</TD>\n",
    "<TD>possible values are \"junior\", \"classic\", \"gold\"</TD></TR>\n",
    "<TR><TD>issued</TD><TD>issue date</TD><TD>in the form YYMMDD</TD></TR>\n",
    "<!-- <TR><TD>expire</TD><TD>expiration date</TD><TD></TD></TR> -->\n",
    "</TABLE>\n",
    "&nbsp;\n",
    "&nbsp;\n",
    "&nbsp;\n",
    "\n",
    "<H3>Relation Demographic data</H3>\n",
    "<TABLE CELLSPACING=0 BORDER CELLPADDING=4 WIDTH=85%>\n",
    "<TR><TH>item</TH>\n",
    "<TH>meaning</TH>\n",
    "<TH>remark</TH>\n",
    "</TR>\n",
    "<TR><TD>A1 = district_id</TD><TD>district code</TD><TD></TD></TR>\n",
    "<TR><TD>A2</TD><TD>district name</TD><TD></TD></TR>\n",
    "<TR><TD>A3</TD><TD>region</TD><TD></TD></TR>\n",
    "<TR><TD>A4</TD><TD>no. of inhabitants</TD><TD></TD></TR>\n",
    "<TR><TD>A5</TD><TD>no. of municipalities with inhabitants <\n",
    "499</TD><TD></TD></TR>\n",
    "<TR><TD>A6</TD><TD>no. of municipalities with inhabitants\n",
    "500-1999</TD><TD></TD></TR>\n",
    "<TR><TD>A7</TD><TD>no. of municipalities with inhabitants\n",
    "2000-9999</TD><TD></TD></TR>\n",
    "<TR><TD>A8</TD><TD>no. of municipalities with inhabitants\n",
    ">10000</TD><TD></TD></TR>\n",
    "<TR><TD>A9</TD><TD>no. of cities</TD><TD></TD></TR>\n",
    "<TR><TD>A10</TD><TD>ratio of urban inhabitants</TD><TD></TD></TR>\n",
    "<TR><TD>A11</TD><TD>average salary</TD><TD></TD></TR>\n",
    "<TR><TD>A12</TD><TD>unemploymant rate '95</TD><TD></TD></TR>\n",
    "<TR><TD>A13</TD><TD>unemploymant rate '96</TD><TD></TD></TR>\n",
    "<TR><TD>A14</TD><TD>no. of enterpreneurs per 1000\n",
    "inhabitants</TD><TD></TD></TR>\n",
    "<TR><TD>A15</TD><TD>no. of commited crimes '95</TD><TD></TD></TR>\n",
    "<TR><TD>A16</TD><TD>no. of commited crimes '96</TD><TD></TD></TR>\n",
    "</TABLE>"
   ]
  },
  {
   "cell_type": "markdown",
   "metadata": {
    "collapsed": true
   },
   "source": [
    "# Ejercicio"
   ]
  },
  {
   "cell_type": "markdown",
   "metadata": {},
   "source": [
    "Con lo aprendido en la introducción haremos lo siguiente:"
   ]
  },
  {
   "cell_type": "markdown",
   "metadata": {},
   "source": [
    "1. Lee los archivos y colocalos en diferentes `RDD`\n",
    "2. Limpia los DataFrames (observa la sección siguiente para darte una idea de como)\n",
    "2. Revisa bien la imagen arriba ¿Puedes imaginar tener una sola fuente de datos?\n",
    "3. Coloca cada `RDD` en una tabla temporal\n",
    "4. Realiza `queries` para ver que todo esté bien cargado.\n",
    "5. Une las tablas en una nueva usando `SQL` ¿Se te ocurre otra manera de hacerlo?\n",
    "6. Lluvia de ideas para realizar análisis\n",
    "7. Lluvia de ideas para visualizaciones"
   ]
  },
  {
   "cell_type": "markdown",
   "metadata": {},
   "source": [
    "**NOTA**: Programa todo en `pyspark`, sólo usa `pandas` para diagramar..."
   ]
  },
  {
   "cell_type": "markdown",
   "metadata": {},
   "source": [
    "## Carga de un archivo"
   ]
  },
  {
   "cell_type": "code",
   "execution_count": null,
   "metadata": {
    "collapsed": true
   },
   "outputs": [],
   "source": [
    "import pyspark\n",
    "sc = pyspark.SparkContext('local[*]')"
   ]
  },
  {
   "cell_type": "code",
   "execution_count": null,
   "metadata": {
    "collapsed": true
   },
   "outputs": [],
   "source": [
    "sqlContext = pyspark.SQLContext(sc)"
   ]
  },
  {
   "cell_type": "code",
   "execution_count": null,
   "metadata": {
    "collapsed": true
   },
   "outputs": [],
   "source": [
    "from pyspark.sql import Row"
   ]
  },
  {
   "cell_type": "code",
   "execution_count": null,
   "metadata": {
    "collapsed": true
   },
   "outputs": [],
   "source": [
    "Client = Row('client_id', 'birth_number', 'district_id')"
   ]
  },
  {
   "cell_type": "code",
   "execution_count": null,
   "metadata": {
    "collapsed": true
   },
   "outputs": [],
   "source": [
    "def getClient(linea):\n",
    "    cells = linea.split(';')\n",
    "    return Client(*cells)"
   ]
  },
  {
   "cell_type": "code",
   "execution_count": null,
   "metadata": {
    "collapsed": false
   },
   "outputs": [],
   "source": [
    "clients_rdd = sc.textFile(\"data/data_berka/client.asc\")\n",
    "\n",
    "clients_rdd.map(getClient).first() # Es el header :("
   ]
  },
  {
   "cell_type": "markdown",
   "metadata": {},
   "source": [
    "Además tiene comillas ...."
   ]
  },
  {
   "cell_type": "code",
   "execution_count": null,
   "metadata": {
    "collapsed": false
   },
   "outputs": [],
   "source": [
    "header = clients_rdd.first()\n",
    "clients = clients_rdd.filter(lambda line: line != header)\\\n",
    "                     .map(lambda line: line.replace('\"', ''))\\\n",
    "                     .map(getClient)\\\n",
    "                     .toDF()\n",
    "        \n",
    "clients.take(5)"
   ]
  },
  {
   "cell_type": "code",
   "execution_count": null,
   "metadata": {
    "collapsed": false
   },
   "outputs": [],
   "source": [
    "# Cuando estemos en Apache Zeppelin, Databricks o cofiguremos bien este docker...\n",
    "#clients = sqlContext.read.format('com.databricks.spark.csv').\\\n",
    "#                options(header='true', delimiter=';').\\\n",
    "#                load(\"data/data_berka/client.asc\")"
   ]
  },
  {
   "cell_type": "markdown",
   "metadata": {},
   "source": [
    "## Intermezzo: Funciones dentro de SQL"
   ]
  },
  {
   "cell_type": "code",
   "execution_count": null,
   "metadata": {
    "collapsed": false
   },
   "outputs": [],
   "source": [
    "clients.count()"
   ]
  },
  {
   "cell_type": "code",
   "execution_count": null,
   "metadata": {
    "collapsed": false
   },
   "outputs": [],
   "source": [
    "clients.printSchema()"
   ]
  },
  {
   "cell_type": "code",
   "execution_count": null,
   "metadata": {
    "collapsed": false
   },
   "outputs": [],
   "source": [
    "clients.take(10)"
   ]
  },
  {
   "cell_type": "markdown",
   "metadata": {},
   "source": [
    "Observando la documentación, nos damos cuenta la variable `birth_number` viene en formato `YY MM DD` si es hombre, y `YY MM+50 DD` si es mujer. "
   ]
  },
  {
   "cell_type": "markdown",
   "metadata": {},
   "source": [
    "En `python` la manera de extraer caracteres de una cadena es con el operador de `slice`:"
   ]
  },
  {
   "cell_type": "code",
   "execution_count": null,
   "metadata": {
    "collapsed": false
   },
   "outputs": [],
   "source": [
    "'706213'[0:2]"
   ]
  },
  {
   "cell_type": "code",
   "execution_count": null,
   "metadata": {
    "collapsed": false
   },
   "outputs": [],
   "source": [
    "'706213'[2:4]"
   ]
  },
  {
   "cell_type": "code",
   "execution_count": null,
   "metadata": {
    "collapsed": false
   },
   "outputs": [],
   "source": [
    "'706213'[4:]"
   ]
  },
  {
   "cell_type": "markdown",
   "metadata": {},
   "source": [
    "Ahora definimos algunas funciones auxiliares para obtener la fecha de nacimiento y el género del cliente."
   ]
  },
  {
   "cell_type": "code",
   "execution_count": null,
   "metadata": {
    "collapsed": true
   },
   "outputs": [],
   "source": [
    "def year_of_birth(birth_number):\n",
    "    return int(birth_number[:2])\n",
    "\n",
    "def month_of_birth(birth_number):\n",
    "    maybe_is_a_month = int(birth_number[2:4])\n",
    "    return maybe_is_a_month if maybe_is_a_month - 50 < 0 else maybe_is_a_month - 50 \n",
    "\n",
    "def day_of_birth(birth_number):\n",
    "    return int(birth_number[4:])\n",
    "\n",
    "def extract_gender(birth_number):\n",
    "    maybe_is_a_month = int(birth_number[2:4])\n",
    "    return 'M' if maybe_is_a_month - 50 < 0 else 'F'"
   ]
  },
  {
   "cell_type": "code",
   "execution_count": null,
   "metadata": {
    "collapsed": false
   },
   "outputs": [],
   "source": [
    "year_of_birth('706213')"
   ]
  },
  {
   "cell_type": "code",
   "execution_count": null,
   "metadata": {
    "collapsed": false
   },
   "outputs": [],
   "source": [
    "month_of_birth('706213')"
   ]
  },
  {
   "cell_type": "code",
   "execution_count": null,
   "metadata": {
    "collapsed": false
   },
   "outputs": [],
   "source": [
    "day_of_birth('706213')"
   ]
  },
  {
   "cell_type": "code",
   "execution_count": null,
   "metadata": {
    "collapsed": false
   },
   "outputs": [],
   "source": [
    "extract_gender('706213')"
   ]
  },
  {
   "cell_type": "markdown",
   "metadata": {},
   "source": [
    "Para poder usarlas en el `Spark DataFrame` debemos registrarlas"
   ]
  },
  {
   "cell_type": "code",
   "execution_count": null,
   "metadata": {
    "collapsed": true
   },
   "outputs": [],
   "source": [
    "from pyspark.sql.types import IntegerType\n",
    "from pyspark.sql.types import StringType"
   ]
  },
  {
   "cell_type": "code",
   "execution_count": null,
   "metadata": {
    "collapsed": false
   },
   "outputs": [],
   "source": [
    "sqlContext.registerFunction('year_of_birth', year_of_birth, IntegerType())\n",
    "sqlContext.registerFunction('month_of_birth', month_of_birth, IntegerType())\n",
    "sqlContext.registerFunction('day_of_birth', day_of_birth, IntegerType())\n",
    "sqlContext.registerFunction('extract_gender', extract_gender, StringType())"
   ]
  },
  {
   "cell_type": "code",
   "execution_count": null,
   "metadata": {
    "collapsed": true
   },
   "outputs": [],
   "source": [
    "clients.registerTempTable('clients')"
   ]
  },
  {
   "cell_type": "code",
   "execution_count": null,
   "metadata": {
    "collapsed": false
   },
   "outputs": [],
   "source": [
    "sqlContext.sql(\"show tables\").show()"
   ]
  },
  {
   "cell_type": "code",
   "execution_count": null,
   "metadata": {
    "collapsed": false
   },
   "outputs": [],
   "source": [
    "clients_clean = sqlContext.sql(\"select client_id, district_id, \"\n",
    "                           \"year_of_birth(birth_number) as year_of_birth, \"\n",
    "                           \"month_of_birth(birth_number) as month_of_birth, \"\n",
    "                           \"day_of_birth(birth_number) as day_of_birth, \"\n",
    "                           \"extract_gender(birth_number) as gender from clients\")"
   ]
  },
  {
   "cell_type": "code",
   "execution_count": null,
   "metadata": {
    "collapsed": false
   },
   "outputs": [],
   "source": [
    "clients_clean.show()"
   ]
  },
  {
   "cell_type": "code",
   "execution_count": null,
   "metadata": {
    "collapsed": true
   },
   "outputs": [],
   "source": []
  }
 ],
 "metadata": {
  "kernelspec": {
   "display_name": "Python 3",
   "language": "python",
   "name": "python3"
  },
  "language_info": {
   "codemirror_mode": {
    "name": "ipython",
    "version": 3
   },
   "file_extension": ".py",
   "mimetype": "text/x-python",
   "name": "python",
   "nbconvert_exporter": "python",
   "pygments_lexer": "ipython3",
   "version": "3.4.3"
  }
 },
 "nbformat": 4,
 "nbformat_minor": 0
}
