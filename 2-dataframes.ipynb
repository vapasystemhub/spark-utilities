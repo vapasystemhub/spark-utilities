{
 "cells": [
  {
   "cell_type": "markdown",
   "metadata": {},
   "source": [
    "# SparkSQL y Spark DataFrames"
   ]
  },
  {
   "cell_type": "markdown",
   "metadata": {},
   "source": [
    "`SparkSQL` además de permitirnos interactuar usando `SQL` (en realidad `HQL` _Hive query language_, ver documentación [aquí](https://cwiki.apache.org/confluence/display/Hive/LanguageManual)), agrega una capa de abstracción al `RDD` y lo convierte en un `DataFrame` análogo al usado en `R` y `Python`."
   ]
  },
  {
   "cell_type": "markdown",
   "metadata": {},
   "source": [
    "Como siempre, empezamos obtniendo el `SparkContext`"
   ]
  },
  {
   "cell_type": "code",
   "execution_count": 1,
   "metadata": {
    "collapsed": true
   },
   "outputs": [],
   "source": [
    "import pyspark\n",
    "sc = pyspark.SparkContext('local[*]')"
   ]
  },
  {
   "cell_type": "markdown",
   "metadata": {},
   "source": [
    "Pero además, obtendremos el `SQLContext` en esta ocasión"
   ]
  },
  {
   "cell_type": "code",
   "execution_count": 2,
   "metadata": {
    "collapsed": false
   },
   "outputs": [],
   "source": [
    "sqlContext = pyspark.SQLContext(sc)"
   ]
  },
  {
   "cell_type": "markdown",
   "metadata": {},
   "source": [
    "## Creando un DataFrame"
   ]
  },
  {
   "cell_type": "markdown",
   "metadata": {},
   "source": [
    "Ahora leeremos el archivo de transacciones creado en el laboratorio anterior"
   ]
  },
  {
   "cell_type": "code",
   "execution_count": 3,
   "metadata": {
    "collapsed": false
   },
   "outputs": [
    {
     "name": "stdout",
     "output_type": "stream",
     "text": [
      "total 656K\r\n",
      "-rw-r--r-- 1 jovyan users  65K Mar  1 16:34 part-00000\r\n",
      "-rw-r--r-- 1 jovyan users  65K Mar  1 16:34 part-00001\r\n",
      "-rw-r--r-- 1 jovyan users  65K Mar  1 16:34 part-00002\r\n",
      "-rw-r--r-- 1 jovyan users 129K Mar  1 16:34 part-00003\r\n",
      "-rw-r--r-- 1 jovyan users  65K Mar  1 16:34 part-00004\r\n",
      "-rw-r--r-- 1 jovyan users  65K Mar  1 16:34 part-00005\r\n",
      "-rw-r--r-- 1 jovyan users  65K Mar  1 16:34 part-00006\r\n",
      "-rw-r--r-- 1 jovyan users 115K Mar  1 16:34 part-00007\r\n",
      "-rw-r--r-- 1 jovyan users    0 Mar  1 16:34 _SUCCESS\r\n"
     ]
    }
   ],
   "source": [
    "! ls -lh output/raw/transacciones"
   ]
  },
  {
   "cell_type": "markdown",
   "metadata": {},
   "source": [
    "**NOTA**: Si marca error la última instrucción, regresa al laboratorio anterior y crea de nuevo el archivo."
   ]
  },
  {
   "cell_type": "code",
   "execution_count": 4,
   "metadata": {
    "collapsed": true
   },
   "outputs": [],
   "source": [
    "txs_rdd = sc.textFile(\"output/raw/transacciones\")"
   ]
  },
  {
   "cell_type": "code",
   "execution_count": 5,
   "metadata": {
    "collapsed": false
   },
   "outputs": [
    {
     "data": {
      "text/plain": [
       "'52778545-1a96-4550-a9b4-f666218925a0|SUPERCITO|RETIRO|4195'"
      ]
     },
     "execution_count": 5,
     "metadata": {},
     "output_type": "execute_result"
    }
   ],
   "source": [
    "txs_rdd.first()"
   ]
  },
  {
   "cell_type": "markdown",
   "metadata": {},
   "source": [
    "Para poder obtener un `DataFrame` hay que extraer cada línea del `RDD` a un objeto `Row`"
   ]
  },
  {
   "cell_type": "code",
   "execution_count": 6,
   "metadata": {
    "collapsed": true
   },
   "outputs": [],
   "source": [
    "from pyspark.sql import Row"
   ]
  },
  {
   "cell_type": "code",
   "execution_count": 7,
   "metadata": {
    "collapsed": true
   },
   "outputs": [],
   "source": [
    "Transaccion = Row('tdc', 'comercio', 'accion', 'monto')"
   ]
  },
  {
   "cell_type": "code",
   "execution_count": 8,
   "metadata": {
    "collapsed": true
   },
   "outputs": [],
   "source": [
    "def getTransaccion(linea):\n",
    "    cells = linea.split('|')\n",
    "    cells[3] = int(cells[3])\n",
    "    return Transaccion(*cells)"
   ]
  },
  {
   "cell_type": "code",
   "execution_count": 9,
   "metadata": {
    "collapsed": true
   },
   "outputs": [],
   "source": [
    "txs = txs_rdd.map(getTransaccion)"
   ]
  },
  {
   "cell_type": "code",
   "execution_count": 10,
   "metadata": {
    "collapsed": false
   },
   "outputs": [
    {
     "data": {
      "text/plain": [
       "Row(tdc='52778545-1a96-4550-a9b4-f666218925a0', comercio='SUPERCITO', accion='RETIRO', monto=4195)"
      ]
     },
     "execution_count": 10,
     "metadata": {},
     "output_type": "execute_result"
    }
   ],
   "source": [
    "txs.first()"
   ]
  },
  {
   "cell_type": "code",
   "execution_count": 11,
   "metadata": {
    "collapsed": true
   },
   "outputs": [],
   "source": [
    "txs_df = txs.toDF()"
   ]
  },
  {
   "cell_type": "code",
   "execution_count": 12,
   "metadata": {
    "collapsed": false
   },
   "outputs": [
    {
     "data": {
      "text/plain": [
       "DataFrame[tdc: string, comercio: string, accion: string, monto: bigint]"
      ]
     },
     "execution_count": 12,
     "metadata": {},
     "output_type": "execute_result"
    }
   ],
   "source": [
    "txs_df"
   ]
  },
  {
   "cell_type": "code",
   "execution_count": 13,
   "metadata": {
    "collapsed": false
   },
   "outputs": [
    {
     "data": {
      "text/plain": [
       "PythonRDD[9] at RDD at PythonRDD.scala:43"
      ]
     },
     "execution_count": 13,
     "metadata": {},
     "output_type": "execute_result"
    }
   ],
   "source": [
    "txs"
   ]
  },
  {
   "cell_type": "code",
   "execution_count": 14,
   "metadata": {
    "collapsed": false
   },
   "outputs": [
    {
     "name": "stdout",
     "output_type": "stream",
     "text": [
      "root\n",
      " |-- tdc: string (nullable = true)\n",
      " |-- comercio: string (nullable = true)\n",
      " |-- accion: string (nullable = true)\n",
      " |-- monto: long (nullable = true)\n",
      "\n"
     ]
    }
   ],
   "source": [
    "txs_df.printSchema()"
   ]
  },
  {
   "cell_type": "code",
   "execution_count": 15,
   "metadata": {
    "collapsed": false
   },
   "outputs": [
    {
     "name": "stdout",
     "output_type": "stream",
     "text": [
      "+--------------------+--------------------+------+-----+\n",
      "|                 tdc|            comercio|accion|monto|\n",
      "+--------------------+--------------------+------+-----+\n",
      "|52778545-1a96-455...|           SUPERCITO|RETIRO| 4195|\n",
      "|e90e5523-50fc-42a...|RESTAURANTE EL TR...|COMPRA| 4763|\n",
      "|52778545-1a96-455...|           SUPERCITO|RETIRO| 5728|\n",
      "|8a7338f8-37b3-46e...|           SUPERCITO|RETIRO| 5723|\n",
      "|52778545-1a96-455...|           SUPERCITO|RETIRO| 1731|\n",
      "|e90e5523-50fc-42a...|       ARENA COLISEO|RETIRO| 7457|\n",
      "|e90e5523-50fc-42a...|       ARENA COLISEO|RETIRO| 3227|\n",
      "|2033ac7f-9f9b-424...|RESTAURANTE EL TR...|RETIRO|  701|\n",
      "|8a7338f8-37b3-46e...|       ARENA COLISEO|COMPRA| 6172|\n",
      "|2033ac7f-9f9b-424...|RESTAURANTE EL TR...|RETIRO| 4105|\n",
      "|52778545-1a96-455...|           SUPERCITO|RETIRO| 8051|\n",
      "|5d88e1a3-ca7c-4ed...|RESTAURANTE EL TR...|RETIRO| 3212|\n",
      "|e90e5523-50fc-42a...|       ARENA COLISEO|COMPRA| 9162|\n",
      "|e90e5523-50fc-42a...|       ARENA COLISEO|COMPRA| 7259|\n",
      "|8a7338f8-37b3-46e...|       ARENA COLISEO|COMPRA| 1964|\n",
      "|52778545-1a96-455...|RESTAURANTE EL TR...|COMPRA| 8076|\n",
      "|e90e5523-50fc-42a...|       ARENA COLISEO|RETIRO| 2526|\n",
      "|5d88e1a3-ca7c-4ed...|           SUPERCITO|COMPRA| 6366|\n",
      "|5d88e1a3-ca7c-4ed...|       ARENA COLISEO|RETIRO|  949|\n",
      "|e90e5523-50fc-42a...|           SUPERCITO|RETIRO| 2881|\n",
      "+--------------------+--------------------+------+-----+\n",
      "only showing top 20 rows\n",
      "\n"
     ]
    }
   ],
   "source": [
    "txs_df.show()"
   ]
  },
  {
   "cell_type": "markdown",
   "metadata": {},
   "source": [
    "## Registrando una tabla"
   ]
  },
  {
   "cell_type": "markdown",
   "metadata": {},
   "source": [
    "Al tener un `DataFrame` es posible usar la `API` o usar `SQL`. Para mostrarlo, primero registremos la tabla"
   ]
  },
  {
   "cell_type": "code",
   "execution_count": 16,
   "metadata": {
    "collapsed": true
   },
   "outputs": [],
   "source": [
    "txs_df.registerTempTable('txs')"
   ]
  },
  {
   "cell_type": "code",
   "execution_count": 17,
   "metadata": {
    "collapsed": false
   },
   "outputs": [
    {
     "name": "stdout",
     "output_type": "stream",
     "text": [
      "+---------+-----------+\n",
      "|tableName|isTemporary|\n",
      "+---------+-----------+\n",
      "|      txs|       true|\n",
      "+---------+-----------+\n",
      "\n"
     ]
    }
   ],
   "source": [
    "sqlContext.sql(\"show tables\").show()"
   ]
  },
  {
   "cell_type": "code",
   "execution_count": 18,
   "metadata": {
    "collapsed": false
   },
   "outputs": [
    {
     "name": "stdout",
     "output_type": "stream",
     "text": [
      "+--------------------+--------------------+------+-----+\n",
      "|                 tdc|            comercio|accion|monto|\n",
      "+--------------------+--------------------+------+-----+\n",
      "|52778545-1a96-455...|           SUPERCITO|RETIRO| 4195|\n",
      "|e90e5523-50fc-42a...|RESTAURANTE EL TR...|COMPRA| 4763|\n",
      "|52778545-1a96-455...|           SUPERCITO|RETIRO| 5728|\n",
      "|8a7338f8-37b3-46e...|           SUPERCITO|RETIRO| 5723|\n",
      "|52778545-1a96-455...|           SUPERCITO|RETIRO| 1731|\n",
      "+--------------------+--------------------+------+-----+\n",
      "\n"
     ]
    }
   ],
   "source": [
    "sqlContext.sql(\"select * from txs limit 5\").show()"
   ]
  },
  {
   "cell_type": "markdown",
   "metadata": {},
   "source": [
    "Ahora que `txs` ya tiene esquema, es buena idea guardarlo"
   ]
  },
  {
   "cell_type": "code",
   "execution_count": 19,
   "metadata": {
    "collapsed": true
   },
   "outputs": [],
   "source": [
    "sqlContext.sql(\"select * from txs\")\\\n",
    "          .coalesce(1)\\\n",
    "          .write.format(\"parquet\")\\\n",
    "          .save(\"output/parquet/transacciones\", mode=\"OVERWRITE\")"
   ]
  },
  {
   "cell_type": "code",
   "execution_count": 20,
   "metadata": {
    "collapsed": true
   },
   "outputs": [],
   "source": [
    "sqlContext.sql(\"select * from txs\")\\\n",
    "          .coalesce(1)\\\n",
    "          .write.format(\"json\")\\\n",
    "          .save(\"output/json/transacciones\", mode=\"OVERWRITE\")"
   ]
  },
  {
   "cell_type": "code",
   "execution_count": 21,
   "metadata": {
    "collapsed": false
   },
   "outputs": [
    {
     "name": "stdout",
     "output_type": "stream",
     "text": [
      "head: cannot open ‘output/json/transacciones/part-r-00000-a2cf4d62-b13c-4f61-a492-6fb88afe0471’ for reading: No such file or directory\r\n"
     ]
    }
   ],
   "source": [
    "! head -2 output/json/transacciones/part-r-00000-a2cf4d62-b13c-4f61-a492-6fb88afe0471"
   ]
  },
  {
   "cell_type": "markdown",
   "metadata": {},
   "source": [
    " ## Usando la API"
   ]
  },
  {
   "cell_type": "markdown",
   "metadata": {},
   "source": [
    "Al igual que los `RDD`s, los `DataFrames` pueden ser operados mediante _transformaciones_ y _acciones_. Las **Transformaciones** son _lazy_ pero contribuyen a la planeación de la ejecución del _query_, las **Acciones** provocan la ejecución del _query_"
   ]
  },
  {
   "cell_type": "markdown",
   "metadata": {},
   "source": [
    "### Transformaciones\n",
    "\n",
    "- `filter`\n",
    "- `select`\n",
    "- `drop`\n",
    "- `join`\n",
    "\n",
    "### Acciones\n",
    "\n",
    "- `count`\n",
    "- `collect`\n",
    "- `show`\n",
    "- `head`\n",
    "- `take`"
   ]
  },
  {
   "cell_type": "markdown",
   "metadata": {},
   "source": [
    "# Código Escala"
   ]
  },
  {
   "cell_type": "code",
   "execution_count": 22,
   "metadata": {
    "collapsed": false
   },
   "outputs": [
    {
     "name": "stdout",
     "output_type": "stream",
     "text": [
      "+--------------------+------+-----+---------------+\n",
      "|                 tdc|accion|monto|(monto >= 5000)|\n",
      "+--------------------+------+-----+---------------+\n",
      "|52778545-1a96-455...|RETIRO| 4195|          false|\n",
      "|e90e5523-50fc-42a...|COMPRA| 4763|          false|\n",
      "|52778545-1a96-455...|RETIRO| 5728|           true|\n",
      "|8a7338f8-37b3-46e...|RETIRO| 5723|           true|\n",
      "|52778545-1a96-455...|RETIRO| 1731|          false|\n",
      "+--------------------+------+-----+---------------+\n",
      "only showing top 5 rows\n",
      "\n"
     ]
    }
   ],
   "source": [
    "txs_df.select(txs_df['tdc'], txs_df['accion'], txs_df['monto'], txs_df['monto'] >= 5000).show(5)"
   ]
  },
  {
   "cell_type": "code",
   "execution_count": 23,
   "metadata": {
    "collapsed": false
   },
   "outputs": [
    {
     "name": "stdout",
     "output_type": "stream",
     "text": [
      "+--------------------+------+-----+-----+\n",
      "|                 tdc|accion|monto|  _c3|\n",
      "+--------------------+------+-----+-----+\n",
      "|52778545-1a96-455...|RETIRO| 4195|false|\n",
      "|e90e5523-50fc-42a...|COMPRA| 4763|false|\n",
      "|52778545-1a96-455...|RETIRO| 5728| true|\n",
      "|8a7338f8-37b3-46e...|RETIRO| 5723| true|\n",
      "|52778545-1a96-455...|RETIRO| 1731|false|\n",
      "+--------------------+------+-----+-----+\n",
      "only showing top 5 rows\n",
      "\n"
     ]
    }
   ],
   "source": [
    "sqlContext.sql(\"select tdc, accion, monto, monto >= 5000 from txs\").show(5)"
   ]
  },
  {
   "cell_type": "code",
   "execution_count": 24,
   "metadata": {
    "collapsed": false
   },
   "outputs": [
    {
     "name": "stdout",
     "output_type": "stream",
     "text": [
      "+--------------------+--------------------+-----+\n",
      "|                 tdc|            comercio|monto|\n",
      "+--------------------+--------------------+-----+\n",
      "|5d88e1a3-ca7c-4ed...|       ARENA COLISEO|10000|\n",
      "|52778545-1a96-455...|           SUPERCITO|10000|\n",
      "|8a7338f8-37b3-46e...|RESTAURANTE EL TR...| 9999|\n",
      "|e90e5523-50fc-42a...|           SUPERCITO| 9997|\n",
      "|5d88e1a3-ca7c-4ed...|           SUPERCITO| 9997|\n",
      "+--------------------+--------------------+-----+\n",
      "only showing top 5 rows\n",
      "\n"
     ]
    }
   ],
   "source": [
    "txs_df.filter((txs_df[\"monto\"] >= 5000) & (txs_df[\"accion\"] == \"RETIRO\"))\\\n",
    "      .select(txs_df[\"tdc\"], txs_df[\"comercio\"], txs_df[\"monto\"])\\\n",
    "      .orderBy(txs_df[\"monto\"].desc())\\\n",
    "      .show(5)"
   ]
  },
  {
   "cell_type": "markdown",
   "metadata": {},
   "source": [
    "**NOTA**: `where()` es un _alias_ para `filter()`"
   ]
  },
  {
   "cell_type": "code",
   "execution_count": 25,
   "metadata": {
    "collapsed": false
   },
   "outputs": [
    {
     "name": "stdout",
     "output_type": "stream",
     "text": [
      "+--------------------+--------------------+-----+\n",
      "|                 tdc|            comercio|monto|\n",
      "+--------------------+--------------------+-----+\n",
      "|52778545-1a96-455...|           SUPERCITO| 5728|\n",
      "|8a7338f8-37b3-46e...|           SUPERCITO| 5723|\n",
      "|e90e5523-50fc-42a...|       ARENA COLISEO| 7457|\n",
      "|52778545-1a96-455...|           SUPERCITO| 8051|\n",
      "|52778545-1a96-455...|RESTAURANTE EL TR...| 7206|\n",
      "+--------------------+--------------------+-----+\n",
      "only showing top 5 rows\n",
      "\n"
     ]
    }
   ],
   "source": [
    "txs_df.where((txs_df[\"monto\"] >= 5000) & (txs_df[\"accion\"] == \"RETIRO\"))\\\n",
    "      .select(txs_df[\"tdc\"], txs_df[\"comercio\"], txs_df[\"monto\"])\\\n",
    "      .show(5)"
   ]
  },
  {
   "cell_type": "markdown",
   "metadata": {},
   "source": [
    "También es posible usar `strings` para el condicional"
   ]
  },
  {
   "cell_type": "code",
   "execution_count": 26,
   "metadata": {
    "collapsed": false
   },
   "outputs": [
    {
     "name": "stdout",
     "output_type": "stream",
     "text": [
      "+--------------------+--------------------+-----+\n",
      "|                 tdc|            comercio|monto|\n",
      "+--------------------+--------------------+-----+\n",
      "|e90e5523-50fc-42a...|           SUPERCITO| 5006|\n",
      "|2033ac7f-9f9b-424...|RESTAURANTE EL TR...| 5009|\n",
      "|52778545-1a96-455...|RESTAURANTE EL TR...| 5009|\n",
      "|5d88e1a3-ca7c-4ed...|           SUPERCITO| 5009|\n",
      "|5d88e1a3-ca7c-4ed...|       ARENA COLISEO| 5009|\n",
      "+--------------------+--------------------+-----+\n",
      "only showing top 5 rows\n",
      "\n"
     ]
    }
   ],
   "source": [
    "txs_df.filter(\"monto >= 5000 and accion = 'RETIRO'\")\\\n",
    "      .select(txs_df[\"tdc\"], txs_df[\"comercio\"], txs_df[\"monto\"])\\\n",
    "      .orderBy(txs_df[\"monto\"].asc())\\\n",
    "      .show(5)"
   ]
  },
  {
   "cell_type": "code",
   "execution_count": 27,
   "metadata": {
    "collapsed": false
   },
   "outputs": [
    {
     "name": "stdout",
     "output_type": "stream",
     "text": [
      "+--------------------+-----+\n",
      "|                 tdc|count|\n",
      "+--------------------+-----+\n",
      "|8a7338f8-37b3-46e...| 1989|\n",
      "|e90e5523-50fc-42a...| 2028|\n",
      "|5d88e1a3-ca7c-4ed...| 1964|\n",
      "|2033ac7f-9f9b-424...| 1987|\n",
      "|52778545-1a96-455...| 2032|\n",
      "+--------------------+-----+\n",
      "\n"
     ]
    }
   ],
   "source": [
    "txs_df.groupBy(\"tdc\").count().show(5)"
   ]
  },
  {
   "cell_type": "code",
   "execution_count": 28,
   "metadata": {
    "collapsed": false,
    "scrolled": true
   },
   "outputs": [
    {
     "name": "stdout",
     "output_type": "stream",
     "text": [
      "+--------------------+-----+\n",
      "|                 tdc|count|\n",
      "+--------------------+-----+\n",
      "|8a7338f8-37b3-46e...| 1989|\n",
      "|e90e5523-50fc-42a...| 2028|\n",
      "|5d88e1a3-ca7c-4ed...| 1964|\n",
      "|2033ac7f-9f9b-424...| 1987|\n",
      "|52778545-1a96-455...| 2032|\n",
      "+--------------------+-----+\n",
      "\n"
     ]
    }
   ],
   "source": [
    "txs_df.groupBy(\"tdc\").count().show(5)"
   ]
  },
  {
   "cell_type": "markdown",
   "metadata": {},
   "source": [
    "### User Defined Functions: UDF"
   ]
  },
  {
   "cell_type": "markdown",
   "metadata": {},
   "source": [
    "Supongamos que queremos mostrar el  `tdc` en mayúsculas, para tal menester es necesario definir una `UDF`"
   ]
  },
  {
   "cell_type": "code",
   "execution_count": 29,
   "metadata": {
    "collapsed": true
   },
   "outputs": [],
   "source": [
    "from pyspark.sql.functions import udf\n",
    "to_upper = udf(lambda s: s.upper())\n"
   ]
  },
  {
   "cell_type": "code",
   "execution_count": 30,
   "metadata": {
    "collapsed": false
   },
   "outputs": [
    {
     "name": "stdout",
     "output_type": "stream",
     "text": [
      "+--------------------+--------------------+\n",
      "|          Mayúsculas|                 tdc|\n",
      "+--------------------+--------------------+\n",
      "|E90E5523-50FC-42A...|e90e5523-50fc-42a...|\n",
      "|2033AC7F-9F9B-424...|2033ac7f-9f9b-424...|\n",
      "|8A7338F8-37B3-46E...|8a7338f8-37b3-46e...|\n",
      "|52778545-1A96-455...|52778545-1a96-455...|\n",
      "|5D88E1A3-CA7C-4ED...|5d88e1a3-ca7c-4ed...|\n",
      "+--------------------+--------------------+\n",
      "\n"
     ]
    }
   ],
   "source": [
    "txs_df.select(to_upper(txs_df[\"tdc\"]).alias(\"Mayúsculas\"), txs_df[\"tdc\"])\\\n",
    "      .distinct()\\\n",
    "      .show(100)"
   ]
  },
  {
   "cell_type": "markdown",
   "metadata": {},
   "source": [
    "Imaginemos que sólo estamos interesados en aquellas transacciones que fueron `RETIRO`s en el `SUPERCITO` por montos mayores a `9000` ya que resultan sospechosos."
   ]
  },
  {
   "cell_type": "code",
   "execution_count": 31,
   "metadata": {
    "collapsed": true
   },
   "outputs": [],
   "source": [
    "txs_sospechosas = txs_df.filter(\"monto >= 9000 and accion = 'RETIRO' and comercio = 'SUPERCITO'\")\\\n",
    "      .select(txs_df[\"tdc\"],  txs_df[\"monto\"])\\\n",
    "      .orderBy(txs_df[\"monto\"].desc())"
   ]
  },
  {
   "cell_type": "code",
   "execution_count": 32,
   "metadata": {
    "collapsed": false
   },
   "outputs": [
    {
     "data": {
      "text/plain": [
       "170"
      ]
     },
     "execution_count": 32,
     "metadata": {},
     "output_type": "execute_result"
    }
   ],
   "source": [
    "txs_sospechosas.count()"
   ]
  },
  {
   "cell_type": "markdown",
   "metadata": {},
   "source": [
    "Guardemos la información para un posterior análisis"
   ]
  },
  {
   "cell_type": "code",
   "execution_count": 33,
   "metadata": {
    "collapsed": false
   },
   "outputs": [],
   "source": [
    "txs_sospechosas.coalesce(1)\\\n",
    "               .write.format(\"json\")\\\n",
    "               .save(\"output/json/transacciones_sospechosas\", mode=\"OVERWRITE\")"
   ]
  },
  {
   "cell_type": "code",
   "execution_count": 34,
   "metadata": {
    "collapsed": true
   },
   "outputs": [],
   "source": [
    "txs_sospechosas.coalesce(1)\\\n",
    "               .write.format(\"parquet\")\\\n",
    "               .save(\"output/parquet/transacciones_sospechosas\", mode=\"OVERWRITE\")"
   ]
  },
  {
   "cell_type": "code",
   "execution_count": 35,
   "metadata": {
    "collapsed": false
   },
   "outputs": [
    {
     "name": "stdout",
     "output_type": "stream",
     "text": [
      "total 12K\r\n",
      "-rw-r--r-- 1 jovyan users 10K Mar  1 16:52 part-r-00000-8d332f39-45c3-4e86-8024-33cf002db23c\r\n",
      "-rw-r--r-- 1 jovyan users   0 Mar  1 16:52 _SUCCESS\r\n"
     ]
    }
   ],
   "source": [
    "! ls -lh output/json/transacciones_sospechosas"
   ]
  },
  {
   "cell_type": "markdown",
   "metadata": {},
   "source": [
    "## DataFrame desde JSON"
   ]
  },
  {
   "cell_type": "markdown",
   "metadata": {},
   "source": [
    "Para esta sección usaremos los datos de proyectos soportados por el **Banco Mundial**"
   ]
  },
  {
   "cell_type": "code",
   "execution_count": 36,
   "metadata": {
    "collapsed": false
   },
   "outputs": [
    {
     "name": "stdout",
     "output_type": "stream",
     "text": [
      "total 36\r\n",
      "drwxrwxrwx 4 root   root   4096 Mar  1 16:50 .\r\n",
      "drwxrwxrwx 6 root   root   4096 Mar  1 16:51 ..\r\n",
      "drwxr-xr-x 2 root   root   4096 Mar  1 14:25 books\r\n",
      "-rw-r--r-- 1 root   root  19910 Mar  1 14:25 log_datos.dat\r\n",
      "drwxr-xr-x 2 jovyan users  4096 Mar  1 16:50 world_bank\r\n"
     ]
    }
   ],
   "source": [
    "!ls -al data/"
   ]
  },
  {
   "cell_type": "code",
   "execution_count": 37,
   "metadata": {
    "collapsed": false
   },
   "outputs": [],
   "source": [
    "! rm -R data/world_bank*"
   ]
  },
  {
   "cell_type": "code",
   "execution_count": 38,
   "metadata": {
    "collapsed": false
   },
   "outputs": [
    {
     "name": "stdout",
     "output_type": "stream",
     "text": [
      "--2016-03-01 16:52:42--  http://jsonstudio.com/wp-content/uploads/2014/02/world_bank.zip\n",
      "Resolving jsonstudio.com (jsonstudio.com)... 104.238.96.73\n",
      "Connecting to jsonstudio.com (jsonstudio.com)|104.238.96.73|:80... connected.\n",
      "HTTP request sent, awaiting response... 200 OK\n",
      "Length: 446064 (436K) [application/zip]\n",
      "Saving to: ‘data/world_bank.zip’\n",
      "\n",
      "data/world_bank.zip 100%[=====================>] 435.61K   446KB/s   in 1.0s   \n",
      "\n",
      "2016-03-01 16:52:44 (446 KB/s) - ‘data/world_bank.zip’ saved [446064/446064]\n",
      "\n"
     ]
    }
   ],
   "source": [
    "! wget http://jsonstudio.com/wp-content/uploads/2014/02/world_bank.zip -P data/"
   ]
  },
  {
   "cell_type": "code",
   "execution_count": 39,
   "metadata": {
    "collapsed": false
   },
   "outputs": [
    {
     "name": "stdout",
     "output_type": "stream",
     "text": [
      "Archive:  data/world_bank.zip\n",
      "  inflating: data/world_bank/world_bank.json  \n"
     ]
    }
   ],
   "source": [
    "! unzip data/world_bank.zip -d data/world_bank"
   ]
  },
  {
   "cell_type": "code",
   "execution_count": 40,
   "metadata": {
    "collapsed": false
   },
   "outputs": [],
   "source": [
    "! rm data/world_bank.zip"
   ]
  },
  {
   "cell_type": "markdown",
   "metadata": {},
   "source": [
    "Creamos el `DataFrame`"
   ]
  },
  {
   "cell_type": "code",
   "execution_count": 41,
   "metadata": {
    "collapsed": false
   },
   "outputs": [],
   "source": [
    "world_bank = sqlContext.read.json(\"data/world_bank/world_bank.json\")"
   ]
  },
  {
   "cell_type": "markdown",
   "metadata": {},
   "source": [
    "Automáticamente detecta el _esquema_ de la fuente de datos"
   ]
  },
  {
   "cell_type": "code",
   "execution_count": 42,
   "metadata": {
    "collapsed": false
   },
   "outputs": [
    {
     "name": "stdout",
     "output_type": "stream",
     "text": [
      "root\n",
      " |-- _id: struct (nullable = true)\n",
      " |    |-- $oid: string (nullable = true)\n",
      " |-- approvalfy: string (nullable = true)\n",
      " |-- board_approval_month: string (nullable = true)\n",
      " |-- boardapprovaldate: string (nullable = true)\n",
      " |-- borrower: string (nullable = true)\n",
      " |-- closingdate: string (nullable = true)\n",
      " |-- country_namecode: string (nullable = true)\n",
      " |-- countrycode: string (nullable = true)\n",
      " |-- countryname: string (nullable = true)\n",
      " |-- countryshortname: string (nullable = true)\n",
      " |-- docty: string (nullable = true)\n",
      " |-- envassesmentcategorycode: string (nullable = true)\n",
      " |-- grantamt: long (nullable = true)\n",
      " |-- ibrdcommamt: long (nullable = true)\n",
      " |-- id: string (nullable = true)\n",
      " |-- idacommamt: long (nullable = true)\n",
      " |-- impagency: string (nullable = true)\n",
      " |-- lendinginstr: string (nullable = true)\n",
      " |-- lendinginstrtype: string (nullable = true)\n",
      " |-- lendprojectcost: long (nullable = true)\n",
      " |-- majorsector_percent: array (nullable = true)\n",
      " |    |-- element: struct (containsNull = true)\n",
      " |    |    |-- Name: string (nullable = true)\n",
      " |    |    |-- Percent: long (nullable = true)\n",
      " |-- mjsector_namecode: array (nullable = true)\n",
      " |    |-- element: struct (containsNull = true)\n",
      " |    |    |-- code: string (nullable = true)\n",
      " |    |    |-- name: string (nullable = true)\n",
      " |-- mjtheme: array (nullable = true)\n",
      " |    |-- element: string (containsNull = true)\n",
      " |-- mjtheme_namecode: array (nullable = true)\n",
      " |    |-- element: struct (containsNull = true)\n",
      " |    |    |-- code: string (nullable = true)\n",
      " |    |    |-- name: string (nullable = true)\n",
      " |-- mjthemecode: string (nullable = true)\n",
      " |-- prodline: string (nullable = true)\n",
      " |-- prodlinetext: string (nullable = true)\n",
      " |-- productlinetype: string (nullable = true)\n",
      " |-- project_abstract: struct (nullable = true)\n",
      " |    |-- cdata: string (nullable = true)\n",
      " |-- project_name: string (nullable = true)\n",
      " |-- projectdocs: array (nullable = true)\n",
      " |    |-- element: struct (containsNull = true)\n",
      " |    |    |-- DocDate: string (nullable = true)\n",
      " |    |    |-- DocType: string (nullable = true)\n",
      " |    |    |-- DocTypeDesc: string (nullable = true)\n",
      " |    |    |-- DocURL: string (nullable = true)\n",
      " |    |    |-- EntityID: string (nullable = true)\n",
      " |-- projectfinancialtype: string (nullable = true)\n",
      " |-- projectstatusdisplay: string (nullable = true)\n",
      " |-- regionname: string (nullable = true)\n",
      " |-- sector: array (nullable = true)\n",
      " |    |-- element: struct (containsNull = true)\n",
      " |    |    |-- Name: string (nullable = true)\n",
      " |-- sector1: struct (nullable = true)\n",
      " |    |-- Name: string (nullable = true)\n",
      " |    |-- Percent: long (nullable = true)\n",
      " |-- sector2: struct (nullable = true)\n",
      " |    |-- Name: string (nullable = true)\n",
      " |    |-- Percent: long (nullable = true)\n",
      " |-- sector3: struct (nullable = true)\n",
      " |    |-- Name: string (nullable = true)\n",
      " |    |-- Percent: long (nullable = true)\n",
      " |-- sector4: struct (nullable = true)\n",
      " |    |-- Name: string (nullable = true)\n",
      " |    |-- Percent: long (nullable = true)\n",
      " |-- sector_namecode: array (nullable = true)\n",
      " |    |-- element: struct (containsNull = true)\n",
      " |    |    |-- code: string (nullable = true)\n",
      " |    |    |-- name: string (nullable = true)\n",
      " |-- sectorcode: string (nullable = true)\n",
      " |-- source: string (nullable = true)\n",
      " |-- status: string (nullable = true)\n",
      " |-- supplementprojectflg: string (nullable = true)\n",
      " |-- theme1: struct (nullable = true)\n",
      " |    |-- Name: string (nullable = true)\n",
      " |    |-- Percent: long (nullable = true)\n",
      " |-- theme_namecode: array (nullable = true)\n",
      " |    |-- element: struct (containsNull = true)\n",
      " |    |    |-- code: string (nullable = true)\n",
      " |    |    |-- name: string (nullable = true)\n",
      " |-- themecode: string (nullable = true)\n",
      " |-- totalamt: long (nullable = true)\n",
      " |-- totalcommamt: long (nullable = true)\n",
      " |-- url: string (nullable = true)\n",
      "\n"
     ]
    }
   ],
   "source": [
    "world_bank.printSchema()"
   ]
  },
  {
   "cell_type": "markdown",
   "metadata": {},
   "source": [
    "La estructura es anidada (en lugar de bidimensional), pero observa que `Spark` no tuvo ningún problema."
   ]
  },
  {
   "cell_type": "code",
   "execution_count": 43,
   "metadata": {
    "collapsed": true
   },
   "outputs": [],
   "source": [
    "world_bank.registerTempTable(\"world_bank_projects\")"
   ]
  },
  {
   "cell_type": "code",
   "execution_count": 44,
   "metadata": {
    "collapsed": false
   },
   "outputs": [
    {
     "name": "stdout",
     "output_type": "stream",
     "text": [
      "+-------------------+-----------+\n",
      "|          tableName|isTemporary|\n",
      "+-------------------+-----------+\n",
      "|world_bank_projects|       true|\n",
      "|                txs|       true|\n",
      "+-------------------+-----------+\n",
      "\n"
     ]
    }
   ],
   "source": [
    "sqlContext.sql('show tables').show()"
   ]
  },
  {
   "cell_type": "code",
   "execution_count": 45,
   "metadata": {
    "collapsed": false
   },
   "outputs": [
    {
     "name": "stdout",
     "output_type": "stream",
     "text": [
      "+----------------+--------------------+---------+------------+\n",
      "|countryshortname|        project_name| totalamt|totalcommamt|\n",
      "+----------------+--------------------+---------+------------+\n",
      "|     Afghanistan|Afghanistan Agric...|        0|    74730000|\n",
      "|     Afghanistan|Afghanistan: Syst...|100000000|   100000000|\n",
      "|     Afghanistan|Afghanistan: Safe...| 12500000|    12500000|\n",
      "|     Afghanistan|Afghanistan - Sec...| 55000000|    55000000|\n",
      "|     Afghanistan|AF: Development P...| 50000000|    50000000|\n",
      "|     Afghanistan|Afghanistan: Nati...|        0|   100000000|\n",
      "|          Africa|Southern Africa T...|213000000|   213000000|\n",
      "|          Africa|West Africa  Regi...|        0|    10000000|\n",
      "|          Africa|Agricultural Prod...| 90000000|    90000000|\n",
      "|          Africa|Fighting against ...|        0|     2000000|\n",
      "|          Africa|Additional Financ...| 60000000|    60000000|\n",
      "|          Africa|Regional Rusumo F...|339900000|   339900000|\n",
      "|          Africa|First Part of the...|203000000|   203000000|\n",
      "|          Africa|Building Resilien...|        0|     4630000|\n",
      "|          Africa|Nile Cooperation ...|        0|    15300000|\n",
      "|          Africa|RCIP4 - Regional ...| 22000000|    22000000|\n",
      "|          Africa|West Africa Regio...| 60000000|    60000000|\n",
      "|         Albania|Water Resources a...| 40000000|    40000000|\n",
      "|         Albania|Land Degradation ...|        0|      150000|\n",
      "|         Albania|Albania MDTF for ...|        0|      350000|\n",
      "+----------------+--------------------+---------+------------+\n",
      "only showing top 20 rows\n",
      "\n"
     ]
    }
   ],
   "source": [
    "sqlContext.sql('select countryshortname, project_name, totalamt, totalcommamt from world_bank_projects order by countryshortname').show()"
   ]
  },
  {
   "cell_type": "code",
   "execution_count": 46,
   "metadata": {
    "collapsed": false
   },
   "outputs": [
    {
     "name": "stdout",
     "output_type": "stream",
     "text": [
      "+--------------------+------------+------------+\n",
      "|             country|num_projects|total_amount|\n",
      "+--------------------+------------+------------+\n",
      "|               India|          16|  2595700000|\n",
      "|              Brazil|           9|  2326200000|\n",
      "|           Indonesia|          19|  2045500000|\n",
      "|             Vietnam|          17|  1832400000|\n",
      "|          Bangladesh|          12|  1566500000|\n",
      "|               China|          19|  1540000000|\n",
      "|              Poland|           1|  1307800000|\n",
      "|              Turkey|           4|  1301000000|\n",
      "|            Ethiopia|           4|  1245000000|\n",
      "|             Nigeria|           7|  1220000000|\n",
      "|              Africa|          11|   987900000|\n",
      "|            Colombia|           3|   950000000|\n",
      "|               Kenya|           6|   875000000|\n",
      "|             Morocco|          12|   793200000|\n",
      "|            Pakistan|           9|   744000000|\n",
      "|             Myanmar|           3|   660000000|\n",
      "|          Mozambique|          11|   657000000|\n",
      "|            Tanzania|           8|   606460000|\n",
      "|Egypt, Arab Repub...|           2|   585400000|\n",
      "|             Tunisia|           4|   500000000|\n",
      "+--------------------+------------+------------+\n",
      "only showing top 20 rows\n",
      "\n"
     ]
    }
   ],
   "source": [
    "projects_by_country = sqlContext.sql('select countryshortname as country, count(project_name) as num_projects, sum(totalamt) as total_amount from world_bank_projects group by countryshortname order by total_amount desc')\n",
    "projects_by_country.show()"
   ]
  },
  {
   "cell_type": "markdown",
   "metadata": {},
   "source": [
    "Una pregunta válida es ¿Cómo leo lo anidado en un `json` (es decir un objeto `struct`)? ¿Y si hay arreglos (es decir un objeto `array`)?"
   ]
  },
  {
   "cell_type": "markdown",
   "metadata": {},
   "source": [
    "Para el primer caso, debes de usar el operador de *acces*, i.e. el operador `.` (si estás viendo bien, es un punto):"
   ]
  },
  {
   "cell_type": "code",
   "execution_count": null,
   "metadata": {
    "collapsed": false
   },
   "outputs": [],
   "source": [
    "# Estoy usando `toPandas` para que se vea bonito en *Jupyter*\n",
    "# Eso lo explicaré en la siguiente sección\n",
    "sqlContext.sql(\"select theme1, theme1.Name, theme1.Percent from world_bank_projects limit 10\").toPandas()"
   ]
  },
  {
   "cell_type": "markdown",
   "metadata": {},
   "source": [
    "Para el caso de un arreglo, no tenemos nada en nuestra fuente de datos así, más bien tenemos el caso más complicado de un arreglo (`array`) con una estructura (`struct`) adentro.\n",
    "\n",
    "En `SQL` se arregla con un `LATERAL VIEW`"
   ]
  },
  {
   "cell_type": "markdown",
   "metadata": {},
   "source": [
    "```\n",
    "sqlContext.sql(\"select expSector.Name from world_bank_projects LATERAL VIEW explode(sector) t AS expSector\").collect().foreach(println)\n",
    "```\n",
    "\n",
    "Pero esto sólo funciona cuando estamos pegados a `Hive` y eso será hasta que tengamos un _cluster_ `:(`\n",
    "\n",
    "\n",
    "Pero, podemos usar el **API** de `Spark SQL`:"
   ]
  },
  {
   "cell_type": "code",
   "execution_count": null,
   "metadata": {
    "collapsed": false
   },
   "outputs": [],
   "source": [
    "from pyspark.sql.functions import explode"
   ]
  },
  {
   "cell_type": "code",
   "execution_count": null,
   "metadata": {
    "collapsed": false
   },
   "outputs": [],
   "source": [
    "wb_df = sqlContext.sql(\"select * from world_bank_projects\")"
   ]
  },
  {
   "cell_type": "markdown",
   "metadata": {},
   "source": [
    "Para eso usaremos la función `explode()`. Esta función _explota_ el arreglo devolviendo una línea por cada elemento del mismo:"
   ]
  },
  {
   "cell_type": "code",
   "execution_count": null,
   "metadata": {
    "collapsed": false
   },
   "outputs": [],
   "source": [
    "# De nuevo estoy usando `toPandas` para que se vea bonito en *Jupyter*\n",
    "wb_df.select(wb_df[\"countryshortname\"].alias('country'), wb_df[\"sector\"].alias(\"sector\"))\\\n",
    "     .where(\"country = 'Mexico'\").toPandas()"
   ]
  },
  {
   "cell_type": "markdown",
   "metadata": {},
   "source": [
    "Si usamos `explode` observa lo que pasa:"
   ]
  },
  {
   "cell_type": "code",
   "execution_count": null,
   "metadata": {
    "collapsed": false
   },
   "outputs": [],
   "source": [
    "# De nuevo estoy usando `toPandas` para que se vea bonito en *Jupyter*\n",
    "wb_df.select(wb_df[\"countryshortname\"].alias('country'), explode(wb_df[\"sector\"]).alias(\"sector\"))\\\n",
    "     .where(\"country = 'Mexico'\").toPandas()"
   ]
  },
  {
   "cell_type": "markdown",
   "metadata": {},
   "source": [
    "Como mencioné nuestra base de datos tiene un `array`de `structs`, por lo tanto hay que hacer **dos** `selects`: uno para _explotar_ (con `explode`) y otro para _extraer_ (con el operador `.`)"
   ]
  },
  {
   "cell_type": "code",
   "execution_count": null,
   "metadata": {
    "collapsed": false
   },
   "outputs": [],
   "source": [
    "# De nuevo estoy usando `toPandas` para que se vea bonito en *Jupyter*\n",
    "wb_df.select(wb_df[\"countryshortname\"].alias('country'), explode(wb_df[\"sector\"]).alias(\"sector\"))\\\n",
    "     .select(\"country\", \"sector.Name\").where(\"country = 'Mexico'\").toPandas()"
   ]
  },
  {
   "cell_type": "markdown",
   "metadata": {},
   "source": [
    "## SparkSQL y Pandas"
   ]
  },
  {
   "cell_type": "markdown",
   "metadata": {},
   "source": [
    "Es posible usar `Pandas` para hacer análisis, pero hay que tomar en cuenta que esto manda _todo_ el `dataset` a un sólo nodo.\n",
    "\n",
    "**NOTA** Aquí explicaré el `toPandas()` usado en la sección anterior..."
   ]
  },
  {
   "cell_type": "code",
   "execution_count": 47,
   "metadata": {
    "collapsed": true
   },
   "outputs": [],
   "source": [
    "import pandas as pd"
   ]
  },
  {
   "cell_type": "code",
   "execution_count": 48,
   "metadata": {
    "collapsed": true
   },
   "outputs": [],
   "source": [
    "projects_by_country_pd = projects_by_country.toPandas()"
   ]
  },
  {
   "cell_type": "code",
   "execution_count": 49,
   "metadata": {
    "collapsed": false
   },
   "outputs": [
    {
     "data": {
      "text/plain": [
       "Index(['country', 'num_projects', 'total_amount'], dtype='object')"
      ]
     },
     "execution_count": 49,
     "metadata": {},
     "output_type": "execute_result"
    }
   ],
   "source": [
    "projects_by_country_pd.columns"
   ]
  },
  {
   "cell_type": "code",
   "execution_count": 50,
   "metadata": {
    "collapsed": true
   },
   "outputs": [],
   "source": [
    "projects_by_country_pd=projects_by_country_pd.set_index(['country'])"
   ]
  },
  {
   "cell_type": "code",
   "execution_count": 51,
   "metadata": {
    "collapsed": false
   },
   "outputs": [
    {
     "data": {
      "text/plain": [
       "country\n",
       "India                            16\n",
       "Brazil                            9\n",
       "Indonesia                        19\n",
       "Vietnam                          17\n",
       "Bangladesh                       12\n",
       "China                            19\n",
       "Poland                            1\n",
       "Turkey                            4\n",
       "Ethiopia                          4\n",
       "Nigeria                           7\n",
       "Africa                           11\n",
       "Colombia                          3\n",
       "Kenya                             6\n",
       "Morocco                          12\n",
       "Pakistan                          9\n",
       "Myanmar                           3\n",
       "Mozambique                       11\n",
       "Tanzania                          8\n",
       "Egypt, Arab Republic of           2\n",
       "Tunisia                           4\n",
       "Ukraine                           4\n",
       "Congo, Democratic Republic of     6\n",
       "Philippines                       3\n",
       "Uruguay                           3\n",
       "Croatia                           4\n",
       "Burkina Faso                      9\n",
       "Nepal                            12\n",
       "Uzbekistan                        5\n",
       "Ecuador                           2\n",
       "Azerbaijan                        4\n",
       "                                 ..\n",
       "Sierra Leone                      2\n",
       "Antigua and Barbuda               1\n",
       "Maldives                          3\n",
       "Congo, Republic of                1\n",
       "Papua New Guinea                  5\n",
       "Tuvalu                            1\n",
       "Sao Tome and Principe             2\n",
       "Gambia, The                       2\n",
       "Solomon Islands                   3\n",
       "Kosovo                            2\n",
       "Marshall Islands                  2\n",
       "Pacific Islands                   4\n",
       "Tonga                             1\n",
       "Thailand                          1\n",
       "East Asia and Pacific             1\n",
       "Namibia                           1\n",
       "Mongolia                          2\n",
       "Chile                             1\n",
       "World                             2\n",
       "Middle East and North Africa      4\n",
       "West Bank and Gaza                6\n",
       "Vanuatu                           3\n",
       "Argentina                         2\n",
       "Kiribati                          1\n",
       "Europe and Central Asia           1\n",
       "Zimbabwe                          1\n",
       "Sudan                             4\n",
       "Cambodia                          2\n",
       "Central African Republic          1\n",
       "Jamaica                           2\n",
       "Name: num_projects, dtype: int64"
      ]
     },
     "execution_count": 51,
     "metadata": {},
     "output_type": "execute_result"
    }
   ],
   "source": [
    "projects_by_country_pd.num_projects"
   ]
  },
  {
   "cell_type": "code",
   "execution_count": 52,
   "metadata": {
    "collapsed": false
   },
   "outputs": [
    {
     "data": {
      "text/html": [
       "<div>\n",
       "<table border=\"1\" class=\"dataframe\">\n",
       "  <thead>\n",
       "    <tr style=\"text-align: right;\">\n",
       "      <th></th>\n",
       "      <th>num_projects</th>\n",
       "      <th>total_amount</th>\n",
       "    </tr>\n",
       "    <tr>\n",
       "      <th>country</th>\n",
       "      <th></th>\n",
       "      <th></th>\n",
       "    </tr>\n",
       "  </thead>\n",
       "  <tbody>\n",
       "    <tr>\n",
       "      <th>India</th>\n",
       "      <td>16</td>\n",
       "      <td>2595700000</td>\n",
       "    </tr>\n",
       "    <tr>\n",
       "      <th>Brazil</th>\n",
       "      <td>9</td>\n",
       "      <td>2326200000</td>\n",
       "    </tr>\n",
       "    <tr>\n",
       "      <th>Indonesia</th>\n",
       "      <td>19</td>\n",
       "      <td>2045500000</td>\n",
       "    </tr>\n",
       "    <tr>\n",
       "      <th>Vietnam</th>\n",
       "      <td>17</td>\n",
       "      <td>1832400000</td>\n",
       "    </tr>\n",
       "    <tr>\n",
       "      <th>Bangladesh</th>\n",
       "      <td>12</td>\n",
       "      <td>1566500000</td>\n",
       "    </tr>\n",
       "  </tbody>\n",
       "</table>\n",
       "</div>"
      ],
      "text/plain": [
       "            num_projects  total_amount\n",
       "country                               \n",
       "India                 16    2595700000\n",
       "Brazil                 9    2326200000\n",
       "Indonesia             19    2045500000\n",
       "Vietnam               17    1832400000\n",
       "Bangladesh            12    1566500000"
      ]
     },
     "execution_count": 52,
     "metadata": {},
     "output_type": "execute_result"
    }
   ],
   "source": [
    "projects_by_country_pd.head()"
   ]
  },
  {
   "cell_type": "code",
   "execution_count": 53,
   "metadata": {
    "collapsed": false
   },
   "outputs": [
    {
     "data": {
      "text/plain": [
       "num_projects            6\n",
       "total_amount    125000000\n",
       "Name: Peru, dtype: int64"
      ]
     },
     "execution_count": 53,
     "metadata": {},
     "output_type": "execute_result"
    }
   ],
   "source": [
    "projects_by_country_pd.ix['Peru']"
   ]
  },
  {
   "cell_type": "code",
   "execution_count": 54,
   "metadata": {
    "collapsed": false
   },
   "outputs": [
    {
     "name": "stderr",
     "output_type": "stream",
     "text": [
      "/opt/conda/lib/python3.5/site-packages/matplotlib/font_manager.py:273: UserWarning: Matplotlib is building the font cache using fc-list. This may take a moment.\n",
      "  warnings.warn('Matplotlib is building the font cache using fc-list. This may take a moment.')\n",
      "/opt/conda/lib/python3.5/site-packages/matplotlib/font_manager.py:273: UserWarning: Matplotlib is building the font cache using fc-list. This may take a moment.\n",
      "  warnings.warn('Matplotlib is building the font cache using fc-list. This may take a moment.')\n"
     ]
    },
    {
     "name": "stdout",
     "output_type": "stream",
     "text": [
      "Populating the interactive namespace from numpy and matplotlib\n"
     ]
    },
    {
     "data": {
      "text/plain": [
       "<matplotlib.axes._subplots.AxesSubplot at 0x7fe0f4b267b8>"
      ]
     },
     "execution_count": 54,
     "metadata": {},
     "output_type": "execute_result"
    },
    {
     "data": {
      "image/png": "[encoded data removed]",
      "text/plain": [
       "<matplotlib.figure.Figure at 0x7fe0f4b58208>"
      ]
     },
     "metadata": {},
     "output_type": "display_data"
    }
   ],
   "source": [
    "%pylab inline\n",
    "projects_by_country_pd['num_projects'][:10].plot(kind='barh', rot=0, )"
   ]
  },
  {
   "cell_type": "code",
   "execution_count": null,
   "metadata": {
    "collapsed": true
   },
   "outputs": [],
   "source": []
  }
 ],
 "metadata": {
  "kernelspec": {
   "display_name": "Python 2",
   "language": "python",
   "name": "python2"
  },
  "language_info": {
   "codemirror_mode": {
    "name": "ipython",
    "version": 2
   },
   "file_extension": ".py",
   "mimetype": "text/x-python",
   "name": "python",
   "nbconvert_exporter": "python",
   "pygments_lexer": "ipython2",
   "version": "2.7.12"
  }
 },
 "nbformat": 4,
 "nbformat_minor": 0
}
